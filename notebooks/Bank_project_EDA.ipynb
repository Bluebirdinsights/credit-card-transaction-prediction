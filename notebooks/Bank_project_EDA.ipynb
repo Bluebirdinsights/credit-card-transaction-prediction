{
  "cells": [
    {
      "cell_type": "markdown",
      "source": [
        "# **Experiment Notebook**\n",
        "\n"
      ],
      "metadata": {
        "id": "uQ6wc2HE0pke",
        "deepnote_app_block_visible": true,
        "cell_id": "5e9b0281ec9d4e10b3267d4c4b62cb15",
        "deepnote_cell_type": "markdown"
      }
    },
    {
      "cell_type": "code",
      "metadata": {
        "id": "eKDgYVWQ04yl",
        "source_hash": "9956c311",
        "execution_start": 1731043160327,
        "execution_millis": 0,
        "execution_context_id": "830c9fcb-c07e-4f38-ac42-b9e2fbf676a4",
        "deepnote_app_block_visible": true,
        "cell_id": "160661c67a9944169c02b2a904bb3b89",
        "deepnote_cell_type": "code"
      },
      "source": [
        "import warnings\n",
        "warnings.simplefilter(action='ignore', category=FutureWarning)"
      ],
      "outputs": [],
      "execution_count": 1
    },
    {
      "cell_type": "markdown",
      "source": [
        "<hr>"
      ],
      "metadata": {
        "id": "U2JZ2-Qa04ym",
        "deepnote_app_block_visible": true,
        "cell_id": "8304252c56484623a58d18a818965242",
        "deepnote_cell_type": "separator"
      }
    },
    {
      "cell_type": "markdown",
      "source": [
        "## A. Project\n"
      ],
      "metadata": {
        "id": "tQgxLRrvjiJb",
        "deepnote_app_block_visible": true,
        "cell_id": "f94692694f314475b2ea99eb69d01cdb",
        "deepnote_cell_type": "markdown"
      }
    },
    {
      "cell_type": "markdown",
      "source": [
        "Project name = Bank Transaction Analysis"
      ],
      "metadata": {
        "id": "PgRVpxepiMvG"
      }
    },
    {
      "cell_type": "markdown",
      "source": [
        "Type = EDA"
      ],
      "metadata": {
        "id": "QhwirKjuiOfl"
      }
    },
    {
      "cell_type": "markdown",
      "source": [
        "<hr>"
      ],
      "metadata": {
        "id": "lN5gWBBo04yn",
        "deepnote_app_block_visible": true,
        "cell_id": "e850a5537ab64b01b513af13c00f5012",
        "deepnote_cell_type": "separator"
      }
    },
    {
      "cell_type": "markdown",
      "source": [
        "<hr>"
      ],
      "metadata": {
        "id": "iehicpBn04yo",
        "deepnote_app_block_visible": true,
        "cell_id": "4c4f8ad75b0749bbbc4d56d57a18e37a",
        "deepnote_cell_type": "separator"
      }
    },
    {
      "cell_type": "markdown",
      "source": [
        "## B. Data Understanding\n"
      ],
      "metadata": {
        "id": "tVEkh2Fk04yo",
        "deepnote_app_block_visible": true,
        "cell_id": "97ce10b29f0440fbbef3bfe5fd600b35",
        "deepnote_cell_type": "markdown"
      }
    },
    {
      "cell_type": "markdown",
      "source": [
        "This analysis examines banking transaction data from 2022, originally distributed across 60 CSV files categorised by age, gender and location. The consolidated dataset comprises 816,859 transactions from 886 unique accounts, with each transaction record containing 10 features including credit card number, account number, transaction number, timestamp, category, amount, fraud indicator, and merchant information with geographical coordinates. Analysis reveals significant demographic imbalances: urban transactions dominate with 788,507 transactions (96.5%), split between female (409,841 transactions) and male (378,666 transactions) customers, while rural transactions are notably underrepresented with only 28,352 transactions (3.5%). Several original datasets, particularly in the rural female segment, were empty, indicating potential data collection issues or genuine demographic patterns requiring further investigation. The transaction amount distribution is heavily right-skewed, with most transactions concentrated under 100 and particularly around 20-30, though the range extends to amounts as high as 25,000, indicating the presence of some high-value outlier transactions. The data quality is robust with no duplicate transactions, and no missing values in critical features, though the severe underrepresentation of rural transactions, particularly female rural transactions, should be carefully considered."
      ],
      "metadata": {
        "id": "mBXIIDZciz1F"
      }
    },
    {
      "cell_type": "markdown",
      "source": [
        "### B.0 Import Packages"
      ],
      "metadata": {
        "id": "KFVpE17Ahezu",
        "deepnote_app_block_visible": true,
        "cell_id": "fa6e8ed09a424c1fb01e3b3dcd298e45",
        "deepnote_cell_type": "markdown"
      }
    },
    {
      "cell_type": "code",
      "metadata": {
        "id": "X3l_Iffyhezx",
        "source_hash": "6ec12dcd",
        "execution_start": 1731043160571,
        "execution_millis": 1532,
        "execution_context_id": "830c9fcb-c07e-4f38-ac42-b9e2fbf676a4",
        "deepnote_to_be_reexecuted": false,
        "deepnote_app_block_visible": true,
        "cell_id": "5f9e14cdc1434e1f95ebde1315b8376b",
        "deepnote_cell_type": "code"
      },
      "source": [
        " # Pandas for data handling\n",
        "import pandas as pd\n",
        "\n",
        "# Scikit Learn for ML training\n",
        "import sklearn\n",
        "\n",
        "# Altair for plotting\n",
        "import altair as alt\n",
        "\n",
        "#Loading dataset\n",
        "from pathlib import Path\n",
        "import re\n",
        "\n",
        "# Numpy for data handling\n",
        "import numpy as np\n",
        "\n",
        "# Seaborn for plotting\n",
        "import seaborn as sns\n",
        "\n",
        "# Matplotlib for plotting\n",
        "import matplotlib.pyplot as plt\n",
        "\n",
        "# Datetime for date handling\n",
        "from datetime import datetime"
      ],
      "outputs": [],
      "execution_count": 2
    },
    {
      "cell_type": "markdown",
      "source": [
        "<hr>"
      ],
      "metadata": {
        "id": "80wtITAP04yp",
        "deepnote_app_block_visible": true,
        "cell_id": "8fe27429b9d447cdad7c3d1b178264ff",
        "deepnote_cell_type": "separator"
      }
    },
    {
      "cell_type": "markdown",
      "source": [
        "### B.1   Load Dataset\n"
      ],
      "metadata": {
        "id": "_NCwQQFkU3v5",
        "deepnote_app_block_visible": true,
        "cell_id": "07d6392067f2439f956450d75271e0da",
        "deepnote_cell_type": "markdown"
      }
    },
    {
      "cell_type": "code",
      "source": [
        "#Load the dataset, combining the dataset to specific category and one whole dataset for comprehensive insight of the dataset\n",
        "# Define a pattern for multiple delimiters\n",
        "delimiter_pattern = r'[|,]'\n",
        "\n",
        "#1: Adult female dataset\n",
        "# Get all rural and urban CSV files separately\n",
        "adult_female_rural_files = [file for file in Path('.').glob('adults_2550_female_rural*.csv')]\n",
        "adult_female_urban_files = [file for file in Path('.').glob('adults_2550_female_urban*.csv')]\n",
        "#Read and concatenate rural files into a single DataFrame\n",
        "df_adult_female_rural = pd.concat([pd.read_csv(file, delimiter='|') for file in adult_female_rural_files], ignore_index=True)\n",
        "#Read and concatenate urban files into a single DataFrame\n",
        "df_adult_female_urban = pd.concat([pd.read_csv(file, delimiter='|') for file in adult_female_urban_files], ignore_index=True)\n",
        "\n",
        "#2: Adult male dataset\n",
        "# Get all rural and urban CSV files separately\n",
        "adult_male_rural_files = [file for file in Path('.').glob('adults_2550_male_rural*.csv')]\n",
        "adult_male_urban_files = [file for file in Path('.').glob('adults_2550_male_urban*.csv')]\n",
        "#Read and concatenate rural files into a single DataFrame\n",
        "df_adult_male_rural = pd.concat([pd.read_csv(file, delimiter='|') for file in adult_male_rural_files], ignore_index=True)\n",
        "#Read and concatenate urban files into a single DataFrame\n",
        "df_adult_male_urban = pd.concat([pd.read_csv(file, delimiter='|') for file in adult_male_urban_files], ignore_index=True)\n",
        "\n",
        "#3: Young adult male dataset\n",
        "# Get all rural and urban CSV files separately\n",
        "young_adult_male_rural_files = [file for file in Path('.').glob('young_adults_male_rural*.csv')]\n",
        "young_adult_male_urban_files = [file for file in Path('.').glob('young_adults_male_urban*.csv')]\n",
        "#Read and concatenate rural files into a single DataFrame\n",
        "df_young_adult_male_rural = pd.concat([pd.read_csv(file, delimiter='|') for file in young_adult_male_rural_files], ignore_index=True)\n",
        "#Read and concatenate urban files into a single DataFrame\n",
        "df_young_adult_male_urban = pd.concat([pd.read_csv(file, delimiter='|') for file in young_adult_male_urban_files], ignore_index=True)\n",
        "\n",
        "#4: Young adult female dataset\n",
        "# Get all rural and urban CSV files separately\n",
        "young_adult_female_rural_files = [file for file in Path('.').glob('young_adults_female_rural*.csv')]\n",
        "young_adult_female_urban_files = [file for file in Path('.').glob('young_adults_female_urban*.csv')]\n",
        "#Read and concatenate rural files into a single DataFrame\n",
        "df_young_adult_female_rural = pd.concat([pd.read_csv(file, delimiter='|') for file in young_adult_female_rural_files], ignore_index=True)\n",
        "#Read and concatenate urban files into a single DataFrame\n",
        "df_young_adult_female_urban = pd.concat([pd.read_csv(file, delimiter='|') for file in young_adult_female_urban_files], ignore_index=True)\n",
        "\n",
        "#5: 50up (senior) female dataset\n",
        "# Get all rural and urban CSV files separately\n",
        "senior_female_rural_files = [file for file in Path('.').glob('adults_50up_female_rural*.csv')]\n",
        "senior_female_urban_files = [file for file in Path('.').glob('adults_50up_female_urban*.csv')]\n",
        "#Read and concatenate rural files into a single DataFrame\n",
        "df_senior_female_rural = pd.concat([pd.read_csv(file, delimiter=delimiter_pattern) for file in senior_female_rural_files], ignore_index=True)\n",
        "#Read and concatenate urban files into a single DataFrame\n",
        "df_senior_female_urban = pd.concat([pd.read_csv(file, delimiter=delimiter_pattern) for file in senior_female_urban_files], ignore_index=True)\n",
        "\n",
        "#5: 50up (senior) male dataset\n",
        "# Get all rural and urban CSV files separately\n",
        "senior_male_rural_files = [file for file in Path('.').glob('adults_50up_male_rural*.csv')]\n",
        "senior_male_urban_files = [file for file in Path('.').glob('adults_50up_male_urban*.csv')]\n",
        "#Read and concatenate rural files into a single DataFrame\n",
        "df_senior_male_rural = pd.concat([pd.read_csv(file, delimiter=delimiter_pattern) for file in senior_male_rural_files], ignore_index=True)\n",
        "#Read and concatenate urban files into a single DataFrame\n",
        "df_senior_male_urban = pd.concat([pd.read_csv(file, delimiter=delimiter_pattern) for file in senior_male_urban_files], ignore_index=True)"
      ],
      "metadata": {
        "colab": {
          "base_uri": "https://localhost:8080/"
        },
        "id": "qFAtOuC9A-3S",
        "outputId": "27321d03-9897-432b-c906-1e4843af7167"
      },
      "execution_count": 3,
      "outputs": [
        {
          "output_type": "stream",
          "name": "stderr",
          "text": [
            "<ipython-input-3-dc7802ed24ed>:46: ParserWarning: Falling back to the 'python' engine because the 'c' engine does not support regex separators (separators > 1 char and different from '\\s+' are interpreted as regex); you can avoid this warning by specifying engine='python'.\n",
            "  df_senior_female_rural = pd.concat([pd.read_csv(file, delimiter=delimiter_pattern) for file in senior_female_rural_files], ignore_index=True)\n",
            "<ipython-input-3-dc7802ed24ed>:46: ParserWarning: Falling back to the 'python' engine because the 'c' engine does not support regex separators (separators > 1 char and different from '\\s+' are interpreted as regex); you can avoid this warning by specifying engine='python'.\n",
            "  df_senior_female_rural = pd.concat([pd.read_csv(file, delimiter=delimiter_pattern) for file in senior_female_rural_files], ignore_index=True)\n",
            "<ipython-input-3-dc7802ed24ed>:46: ParserWarning: Falling back to the 'python' engine because the 'c' engine does not support regex separators (separators > 1 char and different from '\\s+' are interpreted as regex); you can avoid this warning by specifying engine='python'.\n",
            "  df_senior_female_rural = pd.concat([pd.read_csv(file, delimiter=delimiter_pattern) for file in senior_female_rural_files], ignore_index=True)\n",
            "<ipython-input-3-dc7802ed24ed>:46: ParserWarning: Falling back to the 'python' engine because the 'c' engine does not support regex separators (separators > 1 char and different from '\\s+' are interpreted as regex); you can avoid this warning by specifying engine='python'.\n",
            "  df_senior_female_rural = pd.concat([pd.read_csv(file, delimiter=delimiter_pattern) for file in senior_female_rural_files], ignore_index=True)\n",
            "<ipython-input-3-dc7802ed24ed>:46: ParserWarning: Falling back to the 'python' engine because the 'c' engine does not support regex separators (separators > 1 char and different from '\\s+' are interpreted as regex); you can avoid this warning by specifying engine='python'.\n",
            "  df_senior_female_rural = pd.concat([pd.read_csv(file, delimiter=delimiter_pattern) for file in senior_female_rural_files], ignore_index=True)\n",
            "<ipython-input-3-dc7802ed24ed>:48: ParserWarning: Falling back to the 'python' engine because the 'c' engine does not support regex separators (separators > 1 char and different from '\\s+' are interpreted as regex); you can avoid this warning by specifying engine='python'.\n",
            "  df_senior_female_urban = pd.concat([pd.read_csv(file, delimiter=delimiter_pattern) for file in senior_female_urban_files], ignore_index=True)\n",
            "<ipython-input-3-dc7802ed24ed>:48: ParserWarning: Falling back to the 'python' engine because the 'c' engine does not support regex separators (separators > 1 char and different from '\\s+' are interpreted as regex); you can avoid this warning by specifying engine='python'.\n",
            "  df_senior_female_urban = pd.concat([pd.read_csv(file, delimiter=delimiter_pattern) for file in senior_female_urban_files], ignore_index=True)\n",
            "<ipython-input-3-dc7802ed24ed>:48: ParserWarning: Falling back to the 'python' engine because the 'c' engine does not support regex separators (separators > 1 char and different from '\\s+' are interpreted as regex); you can avoid this warning by specifying engine='python'.\n",
            "  df_senior_female_urban = pd.concat([pd.read_csv(file, delimiter=delimiter_pattern) for file in senior_female_urban_files], ignore_index=True)\n",
            "<ipython-input-3-dc7802ed24ed>:48: ParserWarning: Falling back to the 'python' engine because the 'c' engine does not support regex separators (separators > 1 char and different from '\\s+' are interpreted as regex); you can avoid this warning by specifying engine='python'.\n",
            "  df_senior_female_urban = pd.concat([pd.read_csv(file, delimiter=delimiter_pattern) for file in senior_female_urban_files], ignore_index=True)\n",
            "<ipython-input-3-dc7802ed24ed>:48: ParserWarning: Falling back to the 'python' engine because the 'c' engine does not support regex separators (separators > 1 char and different from '\\s+' are interpreted as regex); you can avoid this warning by specifying engine='python'.\n",
            "  df_senior_female_urban = pd.concat([pd.read_csv(file, delimiter=delimiter_pattern) for file in senior_female_urban_files], ignore_index=True)\n",
            "<ipython-input-3-dc7802ed24ed>:55: ParserWarning: Falling back to the 'python' engine because the 'c' engine does not support regex separators (separators > 1 char and different from '\\s+' are interpreted as regex); you can avoid this warning by specifying engine='python'.\n",
            "  df_senior_male_rural = pd.concat([pd.read_csv(file, delimiter=delimiter_pattern) for file in senior_male_rural_files], ignore_index=True)\n",
            "<ipython-input-3-dc7802ed24ed>:55: ParserWarning: Falling back to the 'python' engine because the 'c' engine does not support regex separators (separators > 1 char and different from '\\s+' are interpreted as regex); you can avoid this warning by specifying engine='python'.\n",
            "  df_senior_male_rural = pd.concat([pd.read_csv(file, delimiter=delimiter_pattern) for file in senior_male_rural_files], ignore_index=True)\n",
            "<ipython-input-3-dc7802ed24ed>:55: ParserWarning: Falling back to the 'python' engine because the 'c' engine does not support regex separators (separators > 1 char and different from '\\s+' are interpreted as regex); you can avoid this warning by specifying engine='python'.\n",
            "  df_senior_male_rural = pd.concat([pd.read_csv(file, delimiter=delimiter_pattern) for file in senior_male_rural_files], ignore_index=True)\n",
            "<ipython-input-3-dc7802ed24ed>:55: ParserWarning: Falling back to the 'python' engine because the 'c' engine does not support regex separators (separators > 1 char and different from '\\s+' are interpreted as regex); you can avoid this warning by specifying engine='python'.\n",
            "  df_senior_male_rural = pd.concat([pd.read_csv(file, delimiter=delimiter_pattern) for file in senior_male_rural_files], ignore_index=True)\n",
            "<ipython-input-3-dc7802ed24ed>:55: ParserWarning: Falling back to the 'python' engine because the 'c' engine does not support regex separators (separators > 1 char and different from '\\s+' are interpreted as regex); you can avoid this warning by specifying engine='python'.\n",
            "  df_senior_male_rural = pd.concat([pd.read_csv(file, delimiter=delimiter_pattern) for file in senior_male_rural_files], ignore_index=True)\n",
            "<ipython-input-3-dc7802ed24ed>:57: ParserWarning: Falling back to the 'python' engine because the 'c' engine does not support regex separators (separators > 1 char and different from '\\s+' are interpreted as regex); you can avoid this warning by specifying engine='python'.\n",
            "  df_senior_male_urban = pd.concat([pd.read_csv(file, delimiter=delimiter_pattern) for file in senior_male_urban_files], ignore_index=True)\n",
            "<ipython-input-3-dc7802ed24ed>:57: ParserWarning: Falling back to the 'python' engine because the 'c' engine does not support regex separators (separators > 1 char and different from '\\s+' are interpreted as regex); you can avoid this warning by specifying engine='python'.\n",
            "  df_senior_male_urban = pd.concat([pd.read_csv(file, delimiter=delimiter_pattern) for file in senior_male_urban_files], ignore_index=True)\n",
            "<ipython-input-3-dc7802ed24ed>:57: ParserWarning: Falling back to the 'python' engine because the 'c' engine does not support regex separators (separators > 1 char and different from '\\s+' are interpreted as regex); you can avoid this warning by specifying engine='python'.\n",
            "  df_senior_male_urban = pd.concat([pd.read_csv(file, delimiter=delimiter_pattern) for file in senior_male_urban_files], ignore_index=True)\n",
            "<ipython-input-3-dc7802ed24ed>:57: ParserWarning: Falling back to the 'python' engine because the 'c' engine does not support regex separators (separators > 1 char and different from '\\s+' are interpreted as regex); you can avoid this warning by specifying engine='python'.\n",
            "  df_senior_male_urban = pd.concat([pd.read_csv(file, delimiter=delimiter_pattern) for file in senior_male_urban_files], ignore_index=True)\n",
            "<ipython-input-3-dc7802ed24ed>:57: ParserWarning: Falling back to the 'python' engine because the 'c' engine does not support regex separators (separators > 1 char and different from '\\s+' are interpreted as regex); you can avoid this warning by specifying engine='python'.\n",
            "  df_senior_male_urban = pd.concat([pd.read_csv(file, delimiter=delimiter_pattern) for file in senior_male_urban_files], ignore_index=True)\n"
          ]
        }
      ]
    },
    {
      "cell_type": "code",
      "source": [
        "print(\"Shape of adult_female_rural_files:\", df_adult_female_rural.shape)\n",
        "print(\"Shape of adult_female_urban_files:\", df_adult_female_urban.shape)\n",
        "print(\"Shape of adult_male_rural_files:\", df_adult_male_rural.shape)\n",
        "print(\"Shape of adult_male_urban_files:\", df_adult_male_urban.shape)\n",
        "print(\"Shape of young_adult_male_rural_files:\", df_young_adult_male_rural.shape)\n",
        "print(\"Shape of young_adult_male_urban_files:\", df_young_adult_male_urban.shape)\n",
        "print(\"Shape of young_adult_female_rural_files:\", df_young_adult_female_rural.shape)\n",
        "print(\"Shape of young_adult_female_urban_files:\", df_young_adult_female_urban.shape)\n",
        "print(\"Shape of senior_female_rural_files:\", df_senior_female_rural.shape)\n",
        "print(\"Shape of senior_female_urban_files:\", df_senior_female_urban.shape)\n",
        "print(\"Shape of senior_male_rural_files:\", df_senior_male_rural.shape)\n",
        "print(\"Shape of senior_male_urban_files:\", df_senior_male_urban.shape)"
      ],
      "metadata": {
        "colab": {
          "base_uri": "https://localhost:8080/"
        },
        "id": "wADnxteBNjrO",
        "outputId": "b2b7f223-1ed7-431f-ec2c-1e68284ca99a"
      },
      "execution_count": 4,
      "outputs": [
        {
          "output_type": "stream",
          "name": "stdout",
          "text": [
            "Shape of adult_female_rural_files: (5019, 10)\n",
            "Shape of adult_female_urban_files: (227457, 10)\n",
            "Shape of adult_male_rural_files: (5737, 10)\n",
            "Shape of adult_male_urban_files: (227140, 10)\n",
            "Shape of young_adult_male_rural_files: (6448, 10)\n",
            "Shape of young_adult_male_urban_files: (38761, 10)\n",
            "Shape of young_adult_female_rural_files: (9, 10)\n",
            "Shape of young_adult_female_urban_files: (45548, 10)\n",
            "Shape of senior_female_rural_files: (8265, 10)\n",
            "Shape of senior_female_urban_files: (136836, 10)\n",
            "Shape of senior_male_rural_files: (2874, 10)\n",
            "Shape of senior_male_urban_files: (112765, 10)\n"
          ]
        }
      ]
    },
    {
      "cell_type": "markdown",
      "source": [
        ">Insights: Big differences in the population of the datasets."
      ],
      "metadata": {
        "id": "M0fbHoVas73Y"
      }
    },
    {
      "cell_type": "code",
      "source": [
        "# Add region, gender and age group to dataset\n",
        "\n",
        "df_mapping = {\n",
        "    'adult_female_rural': {'region': 'rural', 'gender': 'female', 'age_group': 'adult'},\n",
        "    'adult_female_urban': {'region': 'urban', 'gender': 'female', 'age_group': 'adult'},\n",
        "    'adult_male_rural': {'region': 'rural', 'gender': 'male', 'age_group': 'adult'},\n",
        "    'adult_male_urban': {'region': 'urban', 'gender': 'male', 'age_group': 'adult'},\n",
        "    'young_adult_male_rural': {'region': 'rural', 'gender': 'male', 'age_group': 'young_adult'},\n",
        "    'young_adult_male_urban': {'region': 'urban', 'gender': 'male', 'age_group': 'young_adult'},\n",
        "    'young_adult_female_rural': {'region': 'rural', 'gender': 'female', 'age_group': 'young_adult'},\n",
        "    'young_adult_female_urban': {'region': 'urban', 'gender': 'female', 'age_group': 'young_adult'},\n",
        "    'senior_female_rural': {'region': 'rural', 'gender': 'female', 'age_group': 'senior'},\n",
        "    'senior_female_urban': {'region': 'urban', 'gender': 'female', 'age_group': 'senior'},\n",
        "    'senior_male_rural': {'region': 'rural', 'gender': 'male', 'age_group': 'senior'},\n",
        "    'senior_male_urban': {'region': 'urban', 'gender': 'male', 'age_group': 'senior'}\n",
        "}\n",
        "\n",
        "# Apply features to each dataframe\n",
        "for df_name, features in df_mapping.items():\n",
        "    df = eval(f'df_{df_name}')  # Get the dataframe object\n",
        "    for feature, value in features.items():\n",
        "        df[feature] = value"
      ],
      "metadata": {
        "id": "nmBT2bJz50Op"
      },
      "execution_count": 5,
      "outputs": []
    },
    {
      "cell_type": "code",
      "metadata": {
        "id": "SeVo97rOhezz",
        "allow_embed": false,
        "source_hash": "757209ec",
        "execution_start": 1731043164267,
        "execution_millis": 1,
        "execution_context_id": "830c9fcb-c07e-4f38-ac42-b9e2fbf676a4",
        "deepnote_app_block_visible": true,
        "cell_id": "a2aff47b600a4b4a8404582f0f40e211",
        "deepnote_cell_type": "code"
      },
      "source": [
        "# Combined everything into one whole dataset\n",
        "\n",
        "df_combined = pd.concat([df_adult_female_rural, df_adult_female_urban, df_adult_male_rural, df_adult_male_urban, df_young_adult_male_rural, df_young_adult_male_urban, df_young_adult_female_rural, df_young_adult_female_urban, df_senior_female_rural, df_senior_female_urban, df_senior_male_rural, df_senior_male_urban], ignore_index=True)"
      ],
      "outputs": [],
      "execution_count": 6
    },
    {
      "cell_type": "code",
      "metadata": {
        "id": "Gd6eGM81hez0",
        "colab": {
          "base_uri": "https://localhost:8080/"
        },
        "outputId": "526e1ea8-4d9b-4be7-ab8c-e71008700ea0",
        "source_hash": "68d301a",
        "execution_start": 1731043164371,
        "execution_millis": 1,
        "execution_context_id": "830c9fcb-c07e-4f38-ac42-b9e2fbf676a4",
        "deepnote_app_block_visible": true,
        "cell_id": "6d7d5761d63b49d3aa2512dc1687203b",
        "deepnote_cell_type": "code"
      },
      "source": [
        "# The dimension of the combined dataset\n",
        "\n",
        "print(\"Shape of df_combined:\", df_combined.shape)"
      ],
      "outputs": [
        {
          "output_type": "stream",
          "name": "stdout",
          "text": [
            "Shape of df_combined: (816859, 13)\n"
          ]
        }
      ],
      "execution_count": 7
    },
    {
      "cell_type": "markdown",
      "source": [
        "<hr>"
      ],
      "metadata": {
        "id": "4Sb-n67y04yq",
        "deepnote_app_block_visible": true,
        "cell_id": "0b9c5ab9a59646f5b046cf44f3868110",
        "deepnote_cell_type": "separator"
      }
    },
    {
      "cell_type": "markdown",
      "source": [
        "### B.2 Explore Dataset"
      ],
      "metadata": {
        "id": "8Ivx4xzphezz",
        "deepnote_app_block_visible": true,
        "cell_id": "d9160c05ccc54b5ab5ec8bd28aec0624",
        "deepnote_cell_type": "markdown"
      }
    },
    {
      "cell_type": "code",
      "source": [
        "df_combined"
      ],
      "metadata": {
        "colab": {
          "base_uri": "https://localhost:8080/",
          "height": 617
        },
        "id": "bQO1XjYK8Bpe",
        "outputId": "6169d827-0619-493e-9803-7fa11ca3fb69"
      },
      "execution_count": 8,
      "outputs": [
        {
          "output_type": "execute_result",
          "data": {
            "text/plain": [
              "                   cc_num        acct_num                         trans_num  \\\n",
              "0        6584732365337749    843643900137  1c3d17397d7149e2a955b4b2423b0748   \n",
              "1        6584732365337749    843643900137  c62ca420fef5ea197b496f861af29cd9   \n",
              "2        6584732365337749    843643900137  54bcc5a58d8bf272c64be31f2420e87e   \n",
              "3        6584732365337749    843643900137  d660da6115de2a5b4621f5e64af9087f   \n",
              "4        6584732365337749    843643900137  e5901413138fc03a46fb79ddad1c7122   \n",
              "...                   ...             ...                               ...   \n",
              "816854  343252000000000.0  298027000000.0  2a1e7680d91e51a60716064068577268   \n",
              "816855  343252000000000.0  298027000000.0  09267380cfb24c33c7048fc9e9f87a6f   \n",
              "816856  343252000000000.0  298027000000.0  1f70991b54083954b077b5711ebbfa0a   \n",
              "816857  343252000000000.0  298027000000.0  096f2c10cf3589b727d39bf1a3e36916   \n",
              "816858  343252000000000.0  298027000000.0  5bc5506499295498f7e658b111450129   \n",
              "\n",
              "         unix_time       category      amt is_fraud  \\\n",
              "0       1645882376   shopping_pos     9.38        1   \n",
              "1       1645888457  gas_transport  1119.10        1   \n",
              "2       1646050072           home   573.21        1   \n",
              "3       1646052298  personal_care   553.55        1   \n",
              "4       1646047130         travel    23.62        1   \n",
              "...            ...            ...      ...      ...   \n",
              "816854  1670908006  personal_care     2.94        0   \n",
              "816855  1669943329      kids_pets     6.43        0   \n",
              "816856  1665710553           home     6.41        0   \n",
              "816857  1670748794  personal_care  1252.96        0   \n",
              "816858  1671940413         travel    76.76        0   \n",
              "\n",
              "                            merchant  merch_lat  merch_long region  gender  \\\n",
              "0                 Huffman-Washington  44.251847  -91.168351  rural  female   \n",
              "1                     Morrison-Brown  44.433155  -92.259518  rural  female   \n",
              "2           Pierce, Gardner and Rich  42.990796  -91.185804  rural  female   \n",
              "3       Farley, Herrera and Phillips  43.232627  -91.020145  rural  female   \n",
              "4                      Smith-Aguilar  44.340716  -90.968698  rural  female   \n",
              "...                              ...        ...         ...    ...     ...   \n",
              "816854                    Monroe Ltd  28.019383  -81.794612  urban    male   \n",
              "816855                 Jimenez Group  27.065622  -82.343797  urban    male   \n",
              "816856                   Coleman-Fry  28.505515  -82.288554  urban    male   \n",
              "816857                          Snow        NaN         NaN  urban    male   \n",
              "816858                    Rose-Jones  27.860629  -82.725985  urban    male   \n",
              "\n",
              "       age_group  \n",
              "0          adult  \n",
              "1          adult  \n",
              "2          adult  \n",
              "3          adult  \n",
              "4          adult  \n",
              "...          ...  \n",
              "816854    senior  \n",
              "816855    senior  \n",
              "816856    senior  \n",
              "816857    senior  \n",
              "816858    senior  \n",
              "\n",
              "[816859 rows x 13 columns]"
            ],
            "text/html": [
              "\n",
              "  <div id=\"df-9e104a79-395c-4e0e-becf-e5d2e2128fe2\" class=\"colab-df-container\">\n",
              "    <div>\n",
              "<style scoped>\n",
              "    .dataframe tbody tr th:only-of-type {\n",
              "        vertical-align: middle;\n",
              "    }\n",
              "\n",
              "    .dataframe tbody tr th {\n",
              "        vertical-align: top;\n",
              "    }\n",
              "\n",
              "    .dataframe thead th {\n",
              "        text-align: right;\n",
              "    }\n",
              "</style>\n",
              "<table border=\"1\" class=\"dataframe\">\n",
              "  <thead>\n",
              "    <tr style=\"text-align: right;\">\n",
              "      <th></th>\n",
              "      <th>cc_num</th>\n",
              "      <th>acct_num</th>\n",
              "      <th>trans_num</th>\n",
              "      <th>unix_time</th>\n",
              "      <th>category</th>\n",
              "      <th>amt</th>\n",
              "      <th>is_fraud</th>\n",
              "      <th>merchant</th>\n",
              "      <th>merch_lat</th>\n",
              "      <th>merch_long</th>\n",
              "      <th>region</th>\n",
              "      <th>gender</th>\n",
              "      <th>age_group</th>\n",
              "    </tr>\n",
              "  </thead>\n",
              "  <tbody>\n",
              "    <tr>\n",
              "      <th>0</th>\n",
              "      <td>6584732365337749</td>\n",
              "      <td>843643900137</td>\n",
              "      <td>1c3d17397d7149e2a955b4b2423b0748</td>\n",
              "      <td>1645882376</td>\n",
              "      <td>shopping_pos</td>\n",
              "      <td>9.38</td>\n",
              "      <td>1</td>\n",
              "      <td>Huffman-Washington</td>\n",
              "      <td>44.251847</td>\n",
              "      <td>-91.168351</td>\n",
              "      <td>rural</td>\n",
              "      <td>female</td>\n",
              "      <td>adult</td>\n",
              "    </tr>\n",
              "    <tr>\n",
              "      <th>1</th>\n",
              "      <td>6584732365337749</td>\n",
              "      <td>843643900137</td>\n",
              "      <td>c62ca420fef5ea197b496f861af29cd9</td>\n",
              "      <td>1645888457</td>\n",
              "      <td>gas_transport</td>\n",
              "      <td>1119.10</td>\n",
              "      <td>1</td>\n",
              "      <td>Morrison-Brown</td>\n",
              "      <td>44.433155</td>\n",
              "      <td>-92.259518</td>\n",
              "      <td>rural</td>\n",
              "      <td>female</td>\n",
              "      <td>adult</td>\n",
              "    </tr>\n",
              "    <tr>\n",
              "      <th>2</th>\n",
              "      <td>6584732365337749</td>\n",
              "      <td>843643900137</td>\n",
              "      <td>54bcc5a58d8bf272c64be31f2420e87e</td>\n",
              "      <td>1646050072</td>\n",
              "      <td>home</td>\n",
              "      <td>573.21</td>\n",
              "      <td>1</td>\n",
              "      <td>Pierce, Gardner and Rich</td>\n",
              "      <td>42.990796</td>\n",
              "      <td>-91.185804</td>\n",
              "      <td>rural</td>\n",
              "      <td>female</td>\n",
              "      <td>adult</td>\n",
              "    </tr>\n",
              "    <tr>\n",
              "      <th>3</th>\n",
              "      <td>6584732365337749</td>\n",
              "      <td>843643900137</td>\n",
              "      <td>d660da6115de2a5b4621f5e64af9087f</td>\n",
              "      <td>1646052298</td>\n",
              "      <td>personal_care</td>\n",
              "      <td>553.55</td>\n",
              "      <td>1</td>\n",
              "      <td>Farley, Herrera and Phillips</td>\n",
              "      <td>43.232627</td>\n",
              "      <td>-91.020145</td>\n",
              "      <td>rural</td>\n",
              "      <td>female</td>\n",
              "      <td>adult</td>\n",
              "    </tr>\n",
              "    <tr>\n",
              "      <th>4</th>\n",
              "      <td>6584732365337749</td>\n",
              "      <td>843643900137</td>\n",
              "      <td>e5901413138fc03a46fb79ddad1c7122</td>\n",
              "      <td>1646047130</td>\n",
              "      <td>travel</td>\n",
              "      <td>23.62</td>\n",
              "      <td>1</td>\n",
              "      <td>Smith-Aguilar</td>\n",
              "      <td>44.340716</td>\n",
              "      <td>-90.968698</td>\n",
              "      <td>rural</td>\n",
              "      <td>female</td>\n",
              "      <td>adult</td>\n",
              "    </tr>\n",
              "    <tr>\n",
              "      <th>...</th>\n",
              "      <td>...</td>\n",
              "      <td>...</td>\n",
              "      <td>...</td>\n",
              "      <td>...</td>\n",
              "      <td>...</td>\n",
              "      <td>...</td>\n",
              "      <td>...</td>\n",
              "      <td>...</td>\n",
              "      <td>...</td>\n",
              "      <td>...</td>\n",
              "      <td>...</td>\n",
              "      <td>...</td>\n",
              "      <td>...</td>\n",
              "    </tr>\n",
              "    <tr>\n",
              "      <th>816854</th>\n",
              "      <td>343252000000000.0</td>\n",
              "      <td>298027000000.0</td>\n",
              "      <td>2a1e7680d91e51a60716064068577268</td>\n",
              "      <td>1670908006</td>\n",
              "      <td>personal_care</td>\n",
              "      <td>2.94</td>\n",
              "      <td>0</td>\n",
              "      <td>Monroe Ltd</td>\n",
              "      <td>28.019383</td>\n",
              "      <td>-81.794612</td>\n",
              "      <td>urban</td>\n",
              "      <td>male</td>\n",
              "      <td>senior</td>\n",
              "    </tr>\n",
              "    <tr>\n",
              "      <th>816855</th>\n",
              "      <td>343252000000000.0</td>\n",
              "      <td>298027000000.0</td>\n",
              "      <td>09267380cfb24c33c7048fc9e9f87a6f</td>\n",
              "      <td>1669943329</td>\n",
              "      <td>kids_pets</td>\n",
              "      <td>6.43</td>\n",
              "      <td>0</td>\n",
              "      <td>Jimenez Group</td>\n",
              "      <td>27.065622</td>\n",
              "      <td>-82.343797</td>\n",
              "      <td>urban</td>\n",
              "      <td>male</td>\n",
              "      <td>senior</td>\n",
              "    </tr>\n",
              "    <tr>\n",
              "      <th>816856</th>\n",
              "      <td>343252000000000.0</td>\n",
              "      <td>298027000000.0</td>\n",
              "      <td>1f70991b54083954b077b5711ebbfa0a</td>\n",
              "      <td>1665710553</td>\n",
              "      <td>home</td>\n",
              "      <td>6.41</td>\n",
              "      <td>0</td>\n",
              "      <td>Coleman-Fry</td>\n",
              "      <td>28.505515</td>\n",
              "      <td>-82.288554</td>\n",
              "      <td>urban</td>\n",
              "      <td>male</td>\n",
              "      <td>senior</td>\n",
              "    </tr>\n",
              "    <tr>\n",
              "      <th>816857</th>\n",
              "      <td>343252000000000.0</td>\n",
              "      <td>298027000000.0</td>\n",
              "      <td>096f2c10cf3589b727d39bf1a3e36916</td>\n",
              "      <td>1670748794</td>\n",
              "      <td>personal_care</td>\n",
              "      <td>1252.96</td>\n",
              "      <td>0</td>\n",
              "      <td>Snow</td>\n",
              "      <td>NaN</td>\n",
              "      <td>NaN</td>\n",
              "      <td>urban</td>\n",
              "      <td>male</td>\n",
              "      <td>senior</td>\n",
              "    </tr>\n",
              "    <tr>\n",
              "      <th>816858</th>\n",
              "      <td>343252000000000.0</td>\n",
              "      <td>298027000000.0</td>\n",
              "      <td>5bc5506499295498f7e658b111450129</td>\n",
              "      <td>1671940413</td>\n",
              "      <td>travel</td>\n",
              "      <td>76.76</td>\n",
              "      <td>0</td>\n",
              "      <td>Rose-Jones</td>\n",
              "      <td>27.860629</td>\n",
              "      <td>-82.725985</td>\n",
              "      <td>urban</td>\n",
              "      <td>male</td>\n",
              "      <td>senior</td>\n",
              "    </tr>\n",
              "  </tbody>\n",
              "</table>\n",
              "<p>816859 rows × 13 columns</p>\n",
              "</div>\n",
              "    <div class=\"colab-df-buttons\">\n",
              "\n",
              "  <div class=\"colab-df-container\">\n",
              "    <button class=\"colab-df-convert\" onclick=\"convertToInteractive('df-9e104a79-395c-4e0e-becf-e5d2e2128fe2')\"\n",
              "            title=\"Convert this dataframe to an interactive table.\"\n",
              "            style=\"display:none;\">\n",
              "\n",
              "  <svg xmlns=\"http://www.w3.org/2000/svg\" height=\"24px\" viewBox=\"0 -960 960 960\">\n",
              "    <path d=\"M120-120v-720h720v720H120Zm60-500h600v-160H180v160Zm220 220h160v-160H400v160Zm0 220h160v-160H400v160ZM180-400h160v-160H180v160Zm440 0h160v-160H620v160ZM180-180h160v-160H180v160Zm440 0h160v-160H620v160Z\"/>\n",
              "  </svg>\n",
              "    </button>\n",
              "\n",
              "  <style>\n",
              "    .colab-df-container {\n",
              "      display:flex;\n",
              "      gap: 12px;\n",
              "    }\n",
              "\n",
              "    .colab-df-convert {\n",
              "      background-color: #E8F0FE;\n",
              "      border: none;\n",
              "      border-radius: 50%;\n",
              "      cursor: pointer;\n",
              "      display: none;\n",
              "      fill: #1967D2;\n",
              "      height: 32px;\n",
              "      padding: 0 0 0 0;\n",
              "      width: 32px;\n",
              "    }\n",
              "\n",
              "    .colab-df-convert:hover {\n",
              "      background-color: #E2EBFA;\n",
              "      box-shadow: 0px 1px 2px rgba(60, 64, 67, 0.3), 0px 1px 3px 1px rgba(60, 64, 67, 0.15);\n",
              "      fill: #174EA6;\n",
              "    }\n",
              "\n",
              "    .colab-df-buttons div {\n",
              "      margin-bottom: 4px;\n",
              "    }\n",
              "\n",
              "    [theme=dark] .colab-df-convert {\n",
              "      background-color: #3B4455;\n",
              "      fill: #D2E3FC;\n",
              "    }\n",
              "\n",
              "    [theme=dark] .colab-df-convert:hover {\n",
              "      background-color: #434B5C;\n",
              "      box-shadow: 0px 1px 3px 1px rgba(0, 0, 0, 0.15);\n",
              "      filter: drop-shadow(0px 1px 2px rgba(0, 0, 0, 0.3));\n",
              "      fill: #FFFFFF;\n",
              "    }\n",
              "  </style>\n",
              "\n",
              "    <script>\n",
              "      const buttonEl =\n",
              "        document.querySelector('#df-9e104a79-395c-4e0e-becf-e5d2e2128fe2 button.colab-df-convert');\n",
              "      buttonEl.style.display =\n",
              "        google.colab.kernel.accessAllowed ? 'block' : 'none';\n",
              "\n",
              "      async function convertToInteractive(key) {\n",
              "        const element = document.querySelector('#df-9e104a79-395c-4e0e-becf-e5d2e2128fe2');\n",
              "        const dataTable =\n",
              "          await google.colab.kernel.invokeFunction('convertToInteractive',\n",
              "                                                    [key], {});\n",
              "        if (!dataTable) return;\n",
              "\n",
              "        const docLinkHtml = 'Like what you see? Visit the ' +\n",
              "          '<a target=\"_blank\" href=https://colab.research.google.com/notebooks/data_table.ipynb>data table notebook</a>'\n",
              "          + ' to learn more about interactive tables.';\n",
              "        element.innerHTML = '';\n",
              "        dataTable['output_type'] = 'display_data';\n",
              "        await google.colab.output.renderOutput(dataTable, element);\n",
              "        const docLink = document.createElement('div');\n",
              "        docLink.innerHTML = docLinkHtml;\n",
              "        element.appendChild(docLink);\n",
              "      }\n",
              "    </script>\n",
              "  </div>\n",
              "\n",
              "\n",
              "<div id=\"df-70c99fb6-0ffa-4ba3-82bb-c5aff301aa31\">\n",
              "  <button class=\"colab-df-quickchart\" onclick=\"quickchart('df-70c99fb6-0ffa-4ba3-82bb-c5aff301aa31')\"\n",
              "            title=\"Suggest charts\"\n",
              "            style=\"display:none;\">\n",
              "\n",
              "<svg xmlns=\"http://www.w3.org/2000/svg\" height=\"24px\"viewBox=\"0 0 24 24\"\n",
              "     width=\"24px\">\n",
              "    <g>\n",
              "        <path d=\"M19 3H5c-1.1 0-2 .9-2 2v14c0 1.1.9 2 2 2h14c1.1 0 2-.9 2-2V5c0-1.1-.9-2-2-2zM9 17H7v-7h2v7zm4 0h-2V7h2v10zm4 0h-2v-4h2v4z\"/>\n",
              "    </g>\n",
              "</svg>\n",
              "  </button>\n",
              "\n",
              "<style>\n",
              "  .colab-df-quickchart {\n",
              "      --bg-color: #E8F0FE;\n",
              "      --fill-color: #1967D2;\n",
              "      --hover-bg-color: #E2EBFA;\n",
              "      --hover-fill-color: #174EA6;\n",
              "      --disabled-fill-color: #AAA;\n",
              "      --disabled-bg-color: #DDD;\n",
              "  }\n",
              "\n",
              "  [theme=dark] .colab-df-quickchart {\n",
              "      --bg-color: #3B4455;\n",
              "      --fill-color: #D2E3FC;\n",
              "      --hover-bg-color: #434B5C;\n",
              "      --hover-fill-color: #FFFFFF;\n",
              "      --disabled-bg-color: #3B4455;\n",
              "      --disabled-fill-color: #666;\n",
              "  }\n",
              "\n",
              "  .colab-df-quickchart {\n",
              "    background-color: var(--bg-color);\n",
              "    border: none;\n",
              "    border-radius: 50%;\n",
              "    cursor: pointer;\n",
              "    display: none;\n",
              "    fill: var(--fill-color);\n",
              "    height: 32px;\n",
              "    padding: 0;\n",
              "    width: 32px;\n",
              "  }\n",
              "\n",
              "  .colab-df-quickchart:hover {\n",
              "    background-color: var(--hover-bg-color);\n",
              "    box-shadow: 0 1px 2px rgba(60, 64, 67, 0.3), 0 1px 3px 1px rgba(60, 64, 67, 0.15);\n",
              "    fill: var(--button-hover-fill-color);\n",
              "  }\n",
              "\n",
              "  .colab-df-quickchart-complete:disabled,\n",
              "  .colab-df-quickchart-complete:disabled:hover {\n",
              "    background-color: var(--disabled-bg-color);\n",
              "    fill: var(--disabled-fill-color);\n",
              "    box-shadow: none;\n",
              "  }\n",
              "\n",
              "  .colab-df-spinner {\n",
              "    border: 2px solid var(--fill-color);\n",
              "    border-color: transparent;\n",
              "    border-bottom-color: var(--fill-color);\n",
              "    animation:\n",
              "      spin 1s steps(1) infinite;\n",
              "  }\n",
              "\n",
              "  @keyframes spin {\n",
              "    0% {\n",
              "      border-color: transparent;\n",
              "      border-bottom-color: var(--fill-color);\n",
              "      border-left-color: var(--fill-color);\n",
              "    }\n",
              "    20% {\n",
              "      border-color: transparent;\n",
              "      border-left-color: var(--fill-color);\n",
              "      border-top-color: var(--fill-color);\n",
              "    }\n",
              "    30% {\n",
              "      border-color: transparent;\n",
              "      border-left-color: var(--fill-color);\n",
              "      border-top-color: var(--fill-color);\n",
              "      border-right-color: var(--fill-color);\n",
              "    }\n",
              "    40% {\n",
              "      border-color: transparent;\n",
              "      border-right-color: var(--fill-color);\n",
              "      border-top-color: var(--fill-color);\n",
              "    }\n",
              "    60% {\n",
              "      border-color: transparent;\n",
              "      border-right-color: var(--fill-color);\n",
              "    }\n",
              "    80% {\n",
              "      border-color: transparent;\n",
              "      border-right-color: var(--fill-color);\n",
              "      border-bottom-color: var(--fill-color);\n",
              "    }\n",
              "    90% {\n",
              "      border-color: transparent;\n",
              "      border-bottom-color: var(--fill-color);\n",
              "    }\n",
              "  }\n",
              "</style>\n",
              "\n",
              "  <script>\n",
              "    async function quickchart(key) {\n",
              "      const quickchartButtonEl =\n",
              "        document.querySelector('#' + key + ' button');\n",
              "      quickchartButtonEl.disabled = true;  // To prevent multiple clicks.\n",
              "      quickchartButtonEl.classList.add('colab-df-spinner');\n",
              "      try {\n",
              "        const charts = await google.colab.kernel.invokeFunction(\n",
              "            'suggestCharts', [key], {});\n",
              "      } catch (error) {\n",
              "        console.error('Error during call to suggestCharts:', error);\n",
              "      }\n",
              "      quickchartButtonEl.classList.remove('colab-df-spinner');\n",
              "      quickchartButtonEl.classList.add('colab-df-quickchart-complete');\n",
              "    }\n",
              "    (() => {\n",
              "      let quickchartButtonEl =\n",
              "        document.querySelector('#df-70c99fb6-0ffa-4ba3-82bb-c5aff301aa31 button');\n",
              "      quickchartButtonEl.style.display =\n",
              "        google.colab.kernel.accessAllowed ? 'block' : 'none';\n",
              "    })();\n",
              "  </script>\n",
              "</div>\n",
              "\n",
              "  <div id=\"id_4d2c7f01-6e70-4de3-8f84-390c166280dd\">\n",
              "    <style>\n",
              "      .colab-df-generate {\n",
              "        background-color: #E8F0FE;\n",
              "        border: none;\n",
              "        border-radius: 50%;\n",
              "        cursor: pointer;\n",
              "        display: none;\n",
              "        fill: #1967D2;\n",
              "        height: 32px;\n",
              "        padding: 0 0 0 0;\n",
              "        width: 32px;\n",
              "      }\n",
              "\n",
              "      .colab-df-generate:hover {\n",
              "        background-color: #E2EBFA;\n",
              "        box-shadow: 0px 1px 2px rgba(60, 64, 67, 0.3), 0px 1px 3px 1px rgba(60, 64, 67, 0.15);\n",
              "        fill: #174EA6;\n",
              "      }\n",
              "\n",
              "      [theme=dark] .colab-df-generate {\n",
              "        background-color: #3B4455;\n",
              "        fill: #D2E3FC;\n",
              "      }\n",
              "\n",
              "      [theme=dark] .colab-df-generate:hover {\n",
              "        background-color: #434B5C;\n",
              "        box-shadow: 0px 1px 3px 1px rgba(0, 0, 0, 0.15);\n",
              "        filter: drop-shadow(0px 1px 2px rgba(0, 0, 0, 0.3));\n",
              "        fill: #FFFFFF;\n",
              "      }\n",
              "    </style>\n",
              "    <button class=\"colab-df-generate\" onclick=\"generateWithVariable('df_combined')\"\n",
              "            title=\"Generate code using this dataframe.\"\n",
              "            style=\"display:none;\">\n",
              "\n",
              "  <svg xmlns=\"http://www.w3.org/2000/svg\" height=\"24px\"viewBox=\"0 0 24 24\"\n",
              "       width=\"24px\">\n",
              "    <path d=\"M7,19H8.4L18.45,9,17,7.55,7,17.6ZM5,21V16.75L18.45,3.32a2,2,0,0,1,2.83,0l1.4,1.43a1.91,1.91,0,0,1,.58,1.4,1.91,1.91,0,0,1-.58,1.4L9.25,21ZM18.45,9,17,7.55Zm-12,3A5.31,5.31,0,0,0,4.9,8.1,5.31,5.31,0,0,0,1,6.5,5.31,5.31,0,0,0,4.9,4.9,5.31,5.31,0,0,0,6.5,1,5.31,5.31,0,0,0,8.1,4.9,5.31,5.31,0,0,0,12,6.5,5.46,5.46,0,0,0,6.5,12Z\"/>\n",
              "  </svg>\n",
              "    </button>\n",
              "    <script>\n",
              "      (() => {\n",
              "      const buttonEl =\n",
              "        document.querySelector('#id_4d2c7f01-6e70-4de3-8f84-390c166280dd button.colab-df-generate');\n",
              "      buttonEl.style.display =\n",
              "        google.colab.kernel.accessAllowed ? 'block' : 'none';\n",
              "\n",
              "      buttonEl.onclick = () => {\n",
              "        google.colab.notebook.generateWithVariable('df_combined');\n",
              "      }\n",
              "      })();\n",
              "    </script>\n",
              "  </div>\n",
              "\n",
              "    </div>\n",
              "  </div>\n"
            ],
            "application/vnd.google.colaboratory.intrinsic+json": {
              "type": "dataframe",
              "variable_name": "df_combined"
            }
          },
          "metadata": {},
          "execution_count": 8
        }
      ]
    },
    {
      "cell_type": "code",
      "metadata": {
        "id": "jbu5ccWo04ys",
        "colab": {
          "height": 300,
          "base_uri": "https://localhost:8080/"
        },
        "outputId": "21adff3e-fcc4-4487-a489-276aeac6b7ce",
        "allow_embed": false,
        "source_hash": "875da11e",
        "execution_start": 1731043164423,
        "execution_millis": 5,
        "execution_context_id": "830c9fcb-c07e-4f38-ac42-b9e2fbf676a4",
        "deepnote_app_block_visible": true,
        "cell_id": "aa6194255f1b4db39dd88cba87ecd744",
        "deepnote_cell_type": "code"
      },
      "source": [
        "# Describe combined dataframe\n",
        "\n",
        "df_combined.describe()\n"
      ],
      "outputs": [
        {
          "output_type": "execute_result",
          "data": {
            "text/plain": [
              "                 amt      merch_lat     merch_long\n",
              "count  816859.000000  729820.000000  729820.000000\n",
              "mean       69.848226      37.335625     -93.445830\n",
              "std       171.228870       5.727537      18.148311\n",
              "min         1.000000      18.590006    -160.365535\n",
              "25%         9.080000      33.602882    -104.246858\n",
              "50%        44.370000      37.914833     -88.086464\n",
              "75%        81.520000      41.184684     -79.983610\n",
              "max     25159.920000      65.773846     -67.248144"
            ],
            "text/html": [
              "\n",
              "  <div id=\"df-6e7827ac-d86b-4884-8082-e29c2be794e5\" class=\"colab-df-container\">\n",
              "    <div>\n",
              "<style scoped>\n",
              "    .dataframe tbody tr th:only-of-type {\n",
              "        vertical-align: middle;\n",
              "    }\n",
              "\n",
              "    .dataframe tbody tr th {\n",
              "        vertical-align: top;\n",
              "    }\n",
              "\n",
              "    .dataframe thead th {\n",
              "        text-align: right;\n",
              "    }\n",
              "</style>\n",
              "<table border=\"1\" class=\"dataframe\">\n",
              "  <thead>\n",
              "    <tr style=\"text-align: right;\">\n",
              "      <th></th>\n",
              "      <th>amt</th>\n",
              "      <th>merch_lat</th>\n",
              "      <th>merch_long</th>\n",
              "    </tr>\n",
              "  </thead>\n",
              "  <tbody>\n",
              "    <tr>\n",
              "      <th>count</th>\n",
              "      <td>816859.000000</td>\n",
              "      <td>729820.000000</td>\n",
              "      <td>729820.000000</td>\n",
              "    </tr>\n",
              "    <tr>\n",
              "      <th>mean</th>\n",
              "      <td>69.848226</td>\n",
              "      <td>37.335625</td>\n",
              "      <td>-93.445830</td>\n",
              "    </tr>\n",
              "    <tr>\n",
              "      <th>std</th>\n",
              "      <td>171.228870</td>\n",
              "      <td>5.727537</td>\n",
              "      <td>18.148311</td>\n",
              "    </tr>\n",
              "    <tr>\n",
              "      <th>min</th>\n",
              "      <td>1.000000</td>\n",
              "      <td>18.590006</td>\n",
              "      <td>-160.365535</td>\n",
              "    </tr>\n",
              "    <tr>\n",
              "      <th>25%</th>\n",
              "      <td>9.080000</td>\n",
              "      <td>33.602882</td>\n",
              "      <td>-104.246858</td>\n",
              "    </tr>\n",
              "    <tr>\n",
              "      <th>50%</th>\n",
              "      <td>44.370000</td>\n",
              "      <td>37.914833</td>\n",
              "      <td>-88.086464</td>\n",
              "    </tr>\n",
              "    <tr>\n",
              "      <th>75%</th>\n",
              "      <td>81.520000</td>\n",
              "      <td>41.184684</td>\n",
              "      <td>-79.983610</td>\n",
              "    </tr>\n",
              "    <tr>\n",
              "      <th>max</th>\n",
              "      <td>25159.920000</td>\n",
              "      <td>65.773846</td>\n",
              "      <td>-67.248144</td>\n",
              "    </tr>\n",
              "  </tbody>\n",
              "</table>\n",
              "</div>\n",
              "    <div class=\"colab-df-buttons\">\n",
              "\n",
              "  <div class=\"colab-df-container\">\n",
              "    <button class=\"colab-df-convert\" onclick=\"convertToInteractive('df-6e7827ac-d86b-4884-8082-e29c2be794e5')\"\n",
              "            title=\"Convert this dataframe to an interactive table.\"\n",
              "            style=\"display:none;\">\n",
              "\n",
              "  <svg xmlns=\"http://www.w3.org/2000/svg\" height=\"24px\" viewBox=\"0 -960 960 960\">\n",
              "    <path d=\"M120-120v-720h720v720H120Zm60-500h600v-160H180v160Zm220 220h160v-160H400v160Zm0 220h160v-160H400v160ZM180-400h160v-160H180v160Zm440 0h160v-160H620v160ZM180-180h160v-160H180v160Zm440 0h160v-160H620v160Z\"/>\n",
              "  </svg>\n",
              "    </button>\n",
              "\n",
              "  <style>\n",
              "    .colab-df-container {\n",
              "      display:flex;\n",
              "      gap: 12px;\n",
              "    }\n",
              "\n",
              "    .colab-df-convert {\n",
              "      background-color: #E8F0FE;\n",
              "      border: none;\n",
              "      border-radius: 50%;\n",
              "      cursor: pointer;\n",
              "      display: none;\n",
              "      fill: #1967D2;\n",
              "      height: 32px;\n",
              "      padding: 0 0 0 0;\n",
              "      width: 32px;\n",
              "    }\n",
              "\n",
              "    .colab-df-convert:hover {\n",
              "      background-color: #E2EBFA;\n",
              "      box-shadow: 0px 1px 2px rgba(60, 64, 67, 0.3), 0px 1px 3px 1px rgba(60, 64, 67, 0.15);\n",
              "      fill: #174EA6;\n",
              "    }\n",
              "\n",
              "    .colab-df-buttons div {\n",
              "      margin-bottom: 4px;\n",
              "    }\n",
              "\n",
              "    [theme=dark] .colab-df-convert {\n",
              "      background-color: #3B4455;\n",
              "      fill: #D2E3FC;\n",
              "    }\n",
              "\n",
              "    [theme=dark] .colab-df-convert:hover {\n",
              "      background-color: #434B5C;\n",
              "      box-shadow: 0px 1px 3px 1px rgba(0, 0, 0, 0.15);\n",
              "      filter: drop-shadow(0px 1px 2px rgba(0, 0, 0, 0.3));\n",
              "      fill: #FFFFFF;\n",
              "    }\n",
              "  </style>\n",
              "\n",
              "    <script>\n",
              "      const buttonEl =\n",
              "        document.querySelector('#df-6e7827ac-d86b-4884-8082-e29c2be794e5 button.colab-df-convert');\n",
              "      buttonEl.style.display =\n",
              "        google.colab.kernel.accessAllowed ? 'block' : 'none';\n",
              "\n",
              "      async function convertToInteractive(key) {\n",
              "        const element = document.querySelector('#df-6e7827ac-d86b-4884-8082-e29c2be794e5');\n",
              "        const dataTable =\n",
              "          await google.colab.kernel.invokeFunction('convertToInteractive',\n",
              "                                                    [key], {});\n",
              "        if (!dataTable) return;\n",
              "\n",
              "        const docLinkHtml = 'Like what you see? Visit the ' +\n",
              "          '<a target=\"_blank\" href=https://colab.research.google.com/notebooks/data_table.ipynb>data table notebook</a>'\n",
              "          + ' to learn more about interactive tables.';\n",
              "        element.innerHTML = '';\n",
              "        dataTable['output_type'] = 'display_data';\n",
              "        await google.colab.output.renderOutput(dataTable, element);\n",
              "        const docLink = document.createElement('div');\n",
              "        docLink.innerHTML = docLinkHtml;\n",
              "        element.appendChild(docLink);\n",
              "      }\n",
              "    </script>\n",
              "  </div>\n",
              "\n",
              "\n",
              "<div id=\"df-86d867b4-56c8-4bb6-adfa-adadf3850300\">\n",
              "  <button class=\"colab-df-quickchart\" onclick=\"quickchart('df-86d867b4-56c8-4bb6-adfa-adadf3850300')\"\n",
              "            title=\"Suggest charts\"\n",
              "            style=\"display:none;\">\n",
              "\n",
              "<svg xmlns=\"http://www.w3.org/2000/svg\" height=\"24px\"viewBox=\"0 0 24 24\"\n",
              "     width=\"24px\">\n",
              "    <g>\n",
              "        <path d=\"M19 3H5c-1.1 0-2 .9-2 2v14c0 1.1.9 2 2 2h14c1.1 0 2-.9 2-2V5c0-1.1-.9-2-2-2zM9 17H7v-7h2v7zm4 0h-2V7h2v10zm4 0h-2v-4h2v4z\"/>\n",
              "    </g>\n",
              "</svg>\n",
              "  </button>\n",
              "\n",
              "<style>\n",
              "  .colab-df-quickchart {\n",
              "      --bg-color: #E8F0FE;\n",
              "      --fill-color: #1967D2;\n",
              "      --hover-bg-color: #E2EBFA;\n",
              "      --hover-fill-color: #174EA6;\n",
              "      --disabled-fill-color: #AAA;\n",
              "      --disabled-bg-color: #DDD;\n",
              "  }\n",
              "\n",
              "  [theme=dark] .colab-df-quickchart {\n",
              "      --bg-color: #3B4455;\n",
              "      --fill-color: #D2E3FC;\n",
              "      --hover-bg-color: #434B5C;\n",
              "      --hover-fill-color: #FFFFFF;\n",
              "      --disabled-bg-color: #3B4455;\n",
              "      --disabled-fill-color: #666;\n",
              "  }\n",
              "\n",
              "  .colab-df-quickchart {\n",
              "    background-color: var(--bg-color);\n",
              "    border: none;\n",
              "    border-radius: 50%;\n",
              "    cursor: pointer;\n",
              "    display: none;\n",
              "    fill: var(--fill-color);\n",
              "    height: 32px;\n",
              "    padding: 0;\n",
              "    width: 32px;\n",
              "  }\n",
              "\n",
              "  .colab-df-quickchart:hover {\n",
              "    background-color: var(--hover-bg-color);\n",
              "    box-shadow: 0 1px 2px rgba(60, 64, 67, 0.3), 0 1px 3px 1px rgba(60, 64, 67, 0.15);\n",
              "    fill: var(--button-hover-fill-color);\n",
              "  }\n",
              "\n",
              "  .colab-df-quickchart-complete:disabled,\n",
              "  .colab-df-quickchart-complete:disabled:hover {\n",
              "    background-color: var(--disabled-bg-color);\n",
              "    fill: var(--disabled-fill-color);\n",
              "    box-shadow: none;\n",
              "  }\n",
              "\n",
              "  .colab-df-spinner {\n",
              "    border: 2px solid var(--fill-color);\n",
              "    border-color: transparent;\n",
              "    border-bottom-color: var(--fill-color);\n",
              "    animation:\n",
              "      spin 1s steps(1) infinite;\n",
              "  }\n",
              "\n",
              "  @keyframes spin {\n",
              "    0% {\n",
              "      border-color: transparent;\n",
              "      border-bottom-color: var(--fill-color);\n",
              "      border-left-color: var(--fill-color);\n",
              "    }\n",
              "    20% {\n",
              "      border-color: transparent;\n",
              "      border-left-color: var(--fill-color);\n",
              "      border-top-color: var(--fill-color);\n",
              "    }\n",
              "    30% {\n",
              "      border-color: transparent;\n",
              "      border-left-color: var(--fill-color);\n",
              "      border-top-color: var(--fill-color);\n",
              "      border-right-color: var(--fill-color);\n",
              "    }\n",
              "    40% {\n",
              "      border-color: transparent;\n",
              "      border-right-color: var(--fill-color);\n",
              "      border-top-color: var(--fill-color);\n",
              "    }\n",
              "    60% {\n",
              "      border-color: transparent;\n",
              "      border-right-color: var(--fill-color);\n",
              "    }\n",
              "    80% {\n",
              "      border-color: transparent;\n",
              "      border-right-color: var(--fill-color);\n",
              "      border-bottom-color: var(--fill-color);\n",
              "    }\n",
              "    90% {\n",
              "      border-color: transparent;\n",
              "      border-bottom-color: var(--fill-color);\n",
              "    }\n",
              "  }\n",
              "</style>\n",
              "\n",
              "  <script>\n",
              "    async function quickchart(key) {\n",
              "      const quickchartButtonEl =\n",
              "        document.querySelector('#' + key + ' button');\n",
              "      quickchartButtonEl.disabled = true;  // To prevent multiple clicks.\n",
              "      quickchartButtonEl.classList.add('colab-df-spinner');\n",
              "      try {\n",
              "        const charts = await google.colab.kernel.invokeFunction(\n",
              "            'suggestCharts', [key], {});\n",
              "      } catch (error) {\n",
              "        console.error('Error during call to suggestCharts:', error);\n",
              "      }\n",
              "      quickchartButtonEl.classList.remove('colab-df-spinner');\n",
              "      quickchartButtonEl.classList.add('colab-df-quickchart-complete');\n",
              "    }\n",
              "    (() => {\n",
              "      let quickchartButtonEl =\n",
              "        document.querySelector('#df-86d867b4-56c8-4bb6-adfa-adadf3850300 button');\n",
              "      quickchartButtonEl.style.display =\n",
              "        google.colab.kernel.accessAllowed ? 'block' : 'none';\n",
              "    })();\n",
              "  </script>\n",
              "</div>\n",
              "\n",
              "    </div>\n",
              "  </div>\n"
            ],
            "application/vnd.google.colaboratory.intrinsic+json": {
              "type": "dataframe",
              "summary": "{\n  \"name\": \"df_combined\",\n  \"rows\": 8,\n  \"fields\": [\n    {\n      \"column\": \"amt\",\n      \"properties\": {\n        \"dtype\": \"number\",\n        \"std\": 287647.5570849856,\n        \"min\": 1.0,\n        \"max\": 816859.0,\n        \"num_unique_values\": 8,\n        \"samples\": [\n          69.84822572806321,\n          44.37,\n          816859.0\n        ],\n        \"semantic_type\": \"\",\n        \"description\": \"\"\n      }\n    },\n    {\n      \"column\": \"merch_lat\",\n      \"properties\": {\n        \"dtype\": \"number\",\n        \"std\": 258018.2077439546,\n        \"min\": 5.727536617273883,\n        \"max\": 729820.0,\n        \"num_unique_values\": 8,\n        \"samples\": [\n          37.335624642119996,\n          37.914833,\n          729820.0\n        ],\n        \"semantic_type\": \"\",\n        \"description\": \"\"\n      }\n    },\n    {\n      \"column\": \"merch_long\",\n      \"properties\": {\n        \"dtype\": \"number\",\n        \"std\": 258059.39365147732,\n        \"min\": -160.365535,\n        \"max\": 729820.0,\n        \"num_unique_values\": 8,\n        \"samples\": [\n          -93.44583034808443,\n          -88.08646350000001,\n          729820.0\n        ],\n        \"semantic_type\": \"\",\n        \"description\": \"\"\n      }\n    }\n  ]\n}"
            }
          },
          "metadata": {},
          "execution_count": 9
        }
      ],
      "execution_count": 9
    },
    {
      "cell_type": "markdown",
      "source": [
        "> Insights: Amount ranges from 1 to 25.160, but the 75 percentile is 81,52, indicating outliers in the upper region."
      ],
      "metadata": {
        "formattedRanges": [],
        "id": "R7mVmvjX04ys",
        "deepnote_app_block_visible": true,
        "cell_id": "e5d2fcd70b114972b6b02be7d5c4d0b2",
        "deepnote_cell_type": "text-cell-callout"
      }
    },
    {
      "cell_type": "code",
      "metadata": {
        "id": "L6eMrb1Dhez0",
        "colab": {
          "base_uri": "https://localhost:8080/"
        },
        "outputId": "04ebafb7-7da7-40e6-8d01-3889c5164f85",
        "source_hash": "ae9b20dd",
        "execution_start": 1731043164471,
        "execution_millis": 1,
        "execution_context_id": "830c9fcb-c07e-4f38-ac42-b9e2fbf676a4",
        "deepnote_app_block_visible": true,
        "cell_id": "9e13cbc3c79d46039ad5642bb31791ee",
        "deepnote_cell_type": "code"
      },
      "source": [
        "# Describe information of combined dataframe\n",
        "\n",
        "df_combined.info()\n"
      ],
      "outputs": [
        {
          "output_type": "stream",
          "name": "stdout",
          "text": [
            "<class 'pandas.core.frame.DataFrame'>\n",
            "RangeIndex: 816859 entries, 0 to 816858\n",
            "Data columns (total 13 columns):\n",
            " #   Column      Non-Null Count   Dtype  \n",
            "---  ------      --------------   -----  \n",
            " 0   cc_num      816859 non-null  object \n",
            " 1   acct_num    816859 non-null  object \n",
            " 2   trans_num   816859 non-null  object \n",
            " 3   unix_time   816859 non-null  object \n",
            " 4   category    816859 non-null  object \n",
            " 5   amt         816859 non-null  float64\n",
            " 6   is_fraud    816859 non-null  object \n",
            " 7   merchant    816859 non-null  object \n",
            " 8   merch_lat   729820 non-null  float64\n",
            " 9   merch_long  729820 non-null  float64\n",
            " 10  region      816859 non-null  object \n",
            " 11  gender      816859 non-null  object \n",
            " 12  age_group   816859 non-null  object \n",
            "dtypes: float64(3), object(10)\n",
            "memory usage: 81.0+ MB\n"
          ]
        }
      ],
      "execution_count": 10
    },
    {
      "cell_type": "markdown",
      "source": [
        "> Insights:  In total, there are 816.859 rows with some missing values in merch_lat and merch_long. Handling of missing values will only be done if the features are going to be used."
      ],
      "metadata": {
        "formattedRanges": [],
        "id": "qQE0fg4_04yt",
        "deepnote_app_block_visible": true,
        "cell_id": "b2513407d1194791a11a76ec6ae0deda",
        "deepnote_cell_type": "text-cell-callout"
      }
    },
    {
      "cell_type": "code",
      "source": [
        "# Count by region\n",
        "print(\"Count by region:\")\n",
        "print(df_combined['region'].value_counts())\n",
        "\n",
        "# Count by gender\n",
        "print(\"\\nCount by gender:\")\n",
        "print(df_combined['gender'].value_counts())"
      ],
      "metadata": {
        "colab": {
          "base_uri": "https://localhost:8080/"
        },
        "id": "9G8JE-EzOCgI",
        "outputId": "acc78250-2051-4ac7-fa60-1b3b2247dbe2"
      },
      "execution_count": 11,
      "outputs": [
        {
          "output_type": "stream",
          "name": "stdout",
          "text": [
            "Count by region:\n",
            "region\n",
            "urban    788507\n",
            "rural     28352\n",
            "Name: count, dtype: int64\n",
            "\n",
            "Count by gender:\n",
            "gender\n",
            "female    423134\n",
            "male      393725\n",
            "Name: count, dtype: int64\n"
          ]
        }
      ]
    },
    {
      "cell_type": "code",
      "source": [
        "print(\"\\nCross-tabulation of region and gender:\")\n",
        "print(pd.crosstab(df_combined['region'], df_combined['gender']))"
      ],
      "metadata": {
        "colab": {
          "base_uri": "https://localhost:8080/"
        },
        "id": "Qvj-VheKuuk8",
        "outputId": "1a870581-d812-468e-fab5-2fc64695225f"
      },
      "execution_count": 12,
      "outputs": [
        {
          "output_type": "stream",
          "name": "stdout",
          "text": [
            "\n",
            "Cross-tabulation of region and gender:\n",
            "gender  female    male\n",
            "region                \n",
            "rural    13293   15059\n",
            "urban   409841  378666\n"
          ]
        }
      ]
    },
    {
      "cell_type": "code",
      "source": [
        "# For percentages of the total (all cells sum to 100%)\n",
        "print(\"\\nCross-tabulation of region and gender (% of total):\")\n",
        "print(pd.crosstab(df_combined['region'], df_combined['gender'], normalize='all') * 100)\n",
        "\n",
        "# For row percentages (each row sums to 100%)\n",
        "print(\"\\nCross-tabulation of region and gender (% by row):\")\n",
        "print(pd.crosstab(df_combined['region'], df_combined['gender'], normalize='index') * 100)\n",
        "\n",
        "# For column percentages (each column sums to 100%)\n",
        "print(\"\\nCross-tabulation of region and gender (% by column):\")\n",
        "print(pd.crosstab(df_combined['region'], df_combined['gender'], normalize='columns') * 100)"
      ],
      "metadata": {
        "colab": {
          "base_uri": "https://localhost:8080/"
        },
        "id": "zgnul8C9vmir",
        "outputId": "cc606001-1813-4e65-8e79-6eeb9a5a4a0f"
      },
      "execution_count": 13,
      "outputs": [
        {
          "output_type": "stream",
          "name": "stdout",
          "text": [
            "\n",
            "Cross-tabulation of region and gender (% of total):\n",
            "gender     female       male\n",
            "region                      \n",
            "rural    1.627331   1.843525\n",
            "urban   50.172796  46.356348\n",
            "\n",
            "Cross-tabulation of region and gender (% by row):\n",
            "gender     female       male\n",
            "region                      \n",
            "rural   46.885581  53.114419\n",
            "urban   51.976837  48.023163\n",
            "\n",
            "Cross-tabulation of region and gender (% by column):\n",
            "gender     female       male\n",
            "region                      \n",
            "rural    3.141558   3.824751\n",
            "urban   96.858442  96.175249\n"
          ]
        }
      ]
    },
    {
      "cell_type": "markdown",
      "source": [
        "> Insights: There is a predominantly urban population distribution, with approximately 96% of individuals residing in urban areas compared to only 4% in rural areas. The severe underrepresentation of rural transactions raises concerns about data collection completeness or potential systematic exclusion. Some of the original CSV files, especially in the rural female category, were empty, suggesting possible data collection or processing errors. The contrast between urban and rural representation extends beyond normal demographic variations, indicating potential sampling bias. These issues significantly limit the dataset's ability to provide insights about rural banking patterns and gender-based differences in rural areas."
      ],
      "metadata": {
        "id": "dUISWEp7Pp-3"
      }
    },
    {
      "cell_type": "code",
      "source": [
        "# Percentage by age\n",
        "print(\"Count by age group:\")\n",
        "print(df_combined['age_group'].value_counts(normalize=True) * 100)"
      ],
      "metadata": {
        "colab": {
          "base_uri": "https://localhost:8080/"
        },
        "id": "sDRYivR88Zkb",
        "outputId": "c5922f34-b456-41cf-a307-10d461fc4c15"
      },
      "execution_count": 14,
      "outputs": [
        {
          "output_type": "stream",
          "name": "stdout",
          "text": [
            "Count by age group:\n",
            "age_group\n",
            "adult          56.968583\n",
            "senior         31.919829\n",
            "young_adult    11.111587\n",
            "Name: proportion, dtype: float64\n"
          ]
        }
      ]
    },
    {
      "cell_type": "markdown",
      "source": [
        "> Insights: Adult is the largest age group, accounting for 57% of the dataset, followed by senior at 32%. Young adult is only 11%"
      ],
      "metadata": {
        "id": "wjgNqI4q8hfP"
      }
    },
    {
      "cell_type": "code",
      "metadata": {
        "id": "Lp0J95Ef04yt",
        "colab": {
          "base_uri": "https://localhost:8080/"
        },
        "outputId": "19eb6e4b-6931-45e5-a4fd-19a01654bc0c",
        "allow_embed": false,
        "source_hash": "89d1228d",
        "execution_start": 1731043164527,
        "execution_millis": 0,
        "execution_context_id": "830c9fcb-c07e-4f38-ac42-b9e2fbf676a4",
        "deepnote_app_block_visible": true,
        "cell_id": "ee9efbd6b8f446d495fca8b8f6431105",
        "deepnote_cell_type": "code"
      },
      "source": [
        "# check for duplicates by transaction number\n",
        "\n",
        "df_combined['trans_num'].nunique()"
      ],
      "outputs": [
        {
          "output_type": "execute_result",
          "data": {
            "text/plain": [
              "816859"
            ]
          },
          "metadata": {},
          "execution_count": 15
        }
      ],
      "execution_count": 15
    },
    {
      "cell_type": "markdown",
      "source": [
        "> Insights: No duplicates based on transaction numbers."
      ],
      "metadata": {
        "formattedRanges": [],
        "id": "StzcuGZ604yt",
        "deepnote_app_block_visible": true,
        "cell_id": "3cdb9ebf07a84bcd993594c73aab324d",
        "deepnote_cell_type": "text-cell-callout"
      }
    },
    {
      "cell_type": "code",
      "metadata": {
        "id": "cQDfPg3L04yu",
        "colab": {
          "base_uri": "https://localhost:8080/"
        },
        "outputId": "18ebefb1-9bfd-4f35-8011-3c9f978312f5",
        "source_hash": "2ef48d26",
        "execution_start": 1731043164579,
        "execution_millis": 1,
        "execution_context_id": "830c9fcb-c07e-4f38-ac42-b9e2fbf676a4",
        "deepnote_app_block_visible": true,
        "cell_id": "ce0a35237450495f9faf18bbf5638ce1",
        "deepnote_cell_type": "code"
      },
      "source": [
        "# Find number of unique accounts\n",
        "\n",
        "print('df_combined acct_num:',df_combined['acct_num'].nunique())"
      ],
      "outputs": [
        {
          "output_type": "stream",
          "name": "stdout",
          "text": [
            "df_combined acct_num: 886\n"
          ]
        }
      ],
      "execution_count": 16
    },
    {
      "cell_type": "markdown",
      "source": [
        "> Insights: The 816.859 transactions are from 886 different accounts."
      ],
      "metadata": {
        "formattedRanges": [],
        "id": "xkRs_8_F04yu",
        "deepnote_app_block_visible": true,
        "cell_id": "1dcf9c502fcb4c44bc0effe652c8b593",
        "deepnote_cell_type": "text-cell-callout"
      }
    },
    {
      "cell_type": "code",
      "metadata": {
        "id": "T0hNfVXg04yu",
        "colab": {
          "base_uri": "https://localhost:8080/"
        },
        "outputId": "0b1da20f-5b6a-4da7-a46b-55db49ceee3a",
        "source_hash": "42b0c942",
        "execution_start": 1731043164631,
        "execution_millis": 1,
        "execution_context_id": "830c9fcb-c07e-4f38-ac42-b9e2fbf676a4",
        "deepnote_app_block_visible": true,
        "cell_id": "437b3b2f1038455f83d728de06c93297",
        "deepnote_cell_type": "code"
      },
      "source": [
        "# Find unique categories\n",
        "\n",
        "df_combined['category'].unique()\n"
      ],
      "outputs": [
        {
          "output_type": "execute_result",
          "data": {
            "text/plain": [
              "array(['shopping_pos', 'gas_transport', 'home', 'personal_care', 'travel',\n",
              "       'kids_pets', 'entertainment', 'health_fitness', 'grocery_pos',\n",
              "       'misc_net', 'grocery_net', 'misc_pos', 'shopping_net',\n",
              "       'food_dining'], dtype=object)"
            ]
          },
          "metadata": {},
          "execution_count": 17
        }
      ],
      "execution_count": 17
    },
    {
      "cell_type": "markdown",
      "source": [
        "> Insights: There are 14 different categories."
      ],
      "metadata": {
        "formattedRanges": [],
        "id": "rtsg_Cmd04yu",
        "deepnote_app_block_visible": true,
        "cell_id": "a469c7095c4240bba4e4e258915f7c7e",
        "deepnote_cell_type": "text-cell-callout"
      }
    },
    {
      "cell_type": "code",
      "metadata": {
        "id": "O31ZJ_hv04yu",
        "colab": {
          "height": 358,
          "base_uri": "https://localhost:8080/"
        },
        "outputId": "e37c67fb-3e89-4b2e-e85c-4a25fa55b4ca",
        "source_hash": "dbdeb839",
        "execution_start": 1731043164687,
        "execution_millis": 214,
        "execution_context_id": "830c9fcb-c07e-4f38-ac42-b9e2fbf676a4",
        "deepnote_app_block_visible": true,
        "cell_id": "67f78124d3c74958962e10921cb5ae9b",
        "deepnote_cell_type": "code"
      },
      "source": [
        "# Convert unix timestamp to datetime\n",
        "df_combined['unix_time'] = pd.to_numeric(df_combined['unix_time'])\n",
        "df_combined['trans_date_time'] = pd.to_datetime(df_combined['unix_time'], unit='s')\n",
        "\n",
        "# Plot monthly transaction counts\n",
        "monthly_counts = df_combined['trans_date_time'].dt.month.value_counts().sort_index()\n",
        "plt.figure(figsize=(12, 4))\n",
        "plt.bar(range(1, 13), monthly_counts)\n",
        "plt.title('Number of Transactions by Month')\n",
        "plt.xlabel('Month')\n",
        "plt.ylabel('Number of Transactions')\n",
        "plt.xticks(range(1, 13))\n",
        "plt.show()"
      ],
      "outputs": [
        {
          "output_type": "display_data",
          "data": {
            "text/plain": [
              "<Figure size 1200x400 with 1 Axes>"
            ],
            "image/png": "[encoded data removed]"
          },
          "metadata": {}
        }
      ],
      "execution_count": 18
    },
    {
      "cell_type": "code",
      "metadata": {
        "id": "GTKmZvhp38e1",
        "colab": {
          "height": 458,
          "base_uri": "https://localhost:8080/"
        },
        "outputId": "99bb2e68-b3bc-4e71-c0da-d1651f5c4945",
        "source_hash": "4a4ca934",
        "execution_start": 1731043164951,
        "execution_millis": 1,
        "execution_context_id": "830c9fcb-c07e-4f38-ac42-b9e2fbf676a4",
        "deepnote_app_block_visible": true,
        "cell_id": "778c5f48ac1f4e76a6478687b90e212b",
        "deepnote_cell_type": "code"
      },
      "source": [
        "# Check Datetime column\n",
        "\n",
        "df_combined['trans_date_time']"
      ],
      "outputs": [
        {
          "output_type": "execute_result",
          "data": {
            "text/plain": [
              "0        2022-02-26 13:32:56\n",
              "1        2022-02-26 15:14:17\n",
              "2        2022-02-28 12:07:52\n",
              "3        2022-02-28 12:44:58\n",
              "4        2022-02-28 11:18:50\n",
              "                 ...        \n",
              "816854   2022-12-13 05:06:46\n",
              "816855   2022-12-02 01:08:49\n",
              "816856   2022-10-14 01:22:33\n",
              "816857   2022-12-11 08:53:14\n",
              "816858   2022-12-25 03:53:33\n",
              "Name: trans_date_time, Length: 816859, dtype: datetime64[ns]"
            ],
            "text/html": [
              "<div>\n",
              "<style scoped>\n",
              "    .dataframe tbody tr th:only-of-type {\n",
              "        vertical-align: middle;\n",
              "    }\n",
              "\n",
              "    .dataframe tbody tr th {\n",
              "        vertical-align: top;\n",
              "    }\n",
              "\n",
              "    .dataframe thead th {\n",
              "        text-align: right;\n",
              "    }\n",
              "</style>\n",
              "<table border=\"1\" class=\"dataframe\">\n",
              "  <thead>\n",
              "    <tr style=\"text-align: right;\">\n",
              "      <th></th>\n",
              "      <th>trans_date_time</th>\n",
              "    </tr>\n",
              "  </thead>\n",
              "  <tbody>\n",
              "    <tr>\n",
              "      <th>0</th>\n",
              "      <td>2022-02-26 13:32:56</td>\n",
              "    </tr>\n",
              "    <tr>\n",
              "      <th>1</th>\n",
              "      <td>2022-02-26 15:14:17</td>\n",
              "    </tr>\n",
              "    <tr>\n",
              "      <th>2</th>\n",
              "      <td>2022-02-28 12:07:52</td>\n",
              "    </tr>\n",
              "    <tr>\n",
              "      <th>3</th>\n",
              "      <td>2022-02-28 12:44:58</td>\n",
              "    </tr>\n",
              "    <tr>\n",
              "      <th>4</th>\n",
              "      <td>2022-02-28 11:18:50</td>\n",
              "    </tr>\n",
              "    <tr>\n",
              "      <th>...</th>\n",
              "      <td>...</td>\n",
              "    </tr>\n",
              "    <tr>\n",
              "      <th>816854</th>\n",
              "      <td>2022-12-13 05:06:46</td>\n",
              "    </tr>\n",
              "    <tr>\n",
              "      <th>816855</th>\n",
              "      <td>2022-12-02 01:08:49</td>\n",
              "    </tr>\n",
              "    <tr>\n",
              "      <th>816856</th>\n",
              "      <td>2022-10-14 01:22:33</td>\n",
              "    </tr>\n",
              "    <tr>\n",
              "      <th>816857</th>\n",
              "      <td>2022-12-11 08:53:14</td>\n",
              "    </tr>\n",
              "    <tr>\n",
              "      <th>816858</th>\n",
              "      <td>2022-12-25 03:53:33</td>\n",
              "    </tr>\n",
              "  </tbody>\n",
              "</table>\n",
              "<p>816859 rows × 1 columns</p>\n",
              "</div><br><label><b>dtype:</b> datetime64[ns]</label>"
            ]
          },
          "metadata": {},
          "execution_count": 19
        }
      ],
      "execution_count": 19
    },
    {
      "cell_type": "markdown",
      "source": [
        "> Insights: The transactions are from 2022, with an uptick in December 2022. The timestamp includes date and time."
      ],
      "metadata": {
        "formattedRanges": [],
        "id": "lZwyu9Dg04yv",
        "deepnote_app_block_visible": true,
        "cell_id": "d069b671f11d4fbeab55970c5d52873c",
        "deepnote_cell_type": "text-cell-callout"
      }
    },
    {
      "cell_type": "code",
      "metadata": {
        "id": "tGG0VeUr04yv",
        "colab": {
          "height": 307,
          "base_uri": "https://localhost:8080/"
        },
        "outputId": "821bdeaa-f731-419c-f96f-dda5a87674f9",
        "source_hash": "bfab91c0",
        "execution_start": 1731043165011,
        "execution_millis": 7267,
        "execution_context_id": "830c9fcb-c07e-4f38-ac42-b9e2fbf676a4",
        "deepnote_app_block_visible": true,
        "cell_id": "b00bb96737ce48ddae514ae0aa0d4401",
        "deepnote_cell_type": "code"
      },
      "source": [
        "# Plot Amount distribution\n",
        "\n",
        "plt.figure(figsize=(12, 3))\n",
        "\n",
        "plt.subplot(1, 2, 1)\n",
        "sns.histplot(df_combined['amt'], kde=True)\n",
        "plt.title('Amount Distribution')\n",
        "\n",
        "\n",
        "plt.tight_layout()\n",
        "plt.show()\n"
      ],
      "outputs": [
        {
          "output_type": "display_data",
          "data": {
            "text/plain": [
              "<Figure size 1200x300 with 1 Axes>"
            ],
            "image/png": "[encoded data removed]"
          },
          "metadata": {}
        }
      ],
      "execution_count": 20
    },
    {
      "cell_type": "code",
      "metadata": {
        "id": "aBkDZT-u04yw",
        "colab": {
          "height": 307,
          "base_uri": "https://localhost:8080/"
        },
        "outputId": "1cddfa63-be2c-4822-cef4-a3b545f9681a",
        "source_hash": "7f8941aa",
        "execution_start": 1731043172327,
        "execution_millis": 1111,
        "execution_context_id": "830c9fcb-c07e-4f38-ac42-b9e2fbf676a4",
        "deepnote_app_block_visible": true,
        "cell_id": "621be41062a045698270bfdbede9b76e",
        "deepnote_cell_type": "code"
      },
      "source": [
        "# Plot Amount distribution under 500\n",
        "\n",
        "df_filtered = df_combined[df_combined['amt'] < 500]\n",
        "\n",
        "plt.figure(figsize=(12, 3))\n",
        "\n",
        "plt.subplot(1, 2, 1)\n",
        "sns.histplot(df_filtered['amt'], kde=True)\n",
        "plt.title('Amount Distribution')\n",
        "\n",
        "\n",
        "plt.tight_layout()\n",
        "plt.show()"
      ],
      "outputs": [
        {
          "output_type": "display_data",
          "data": {
            "text/plain": [
              "<Figure size 1200x300 with 1 Axes>"
            ],
            "image/png": "[encoded data removed]"
          },
          "metadata": {}
        }
      ],
      "execution_count": 21
    },
    {
      "cell_type": "markdown",
      "source": [
        "> Insights: The majority of transactions are under 100, with some outliers up to 25.000"
      ],
      "metadata": {
        "formattedRanges": [],
        "id": "XTQsxrhg04yv",
        "deepnote_app_block_visible": true,
        "cell_id": "192ae6490ed241c299cbf5acd7ac1f90",
        "deepnote_cell_type": "text-cell-callout"
      }
    },
    {
      "cell_type": "markdown",
      "source": [
        "> Considerations: The wide range of transaction amounts (from small everyday purchases to outliers of $25,000) suggests that separate analyses for different transaction value ranges might be more informative"
      ],
      "metadata": {
        "formattedRanges": [],
        "id": "SXvZd00304y1",
        "color": "yellow",
        "deepnote_app_block_visible": true,
        "cell_id": "e22eddb2d53b4f4db6e162accea852e4",
        "deepnote_cell_type": "text-cell-callout"
      }
    },
    {
      "cell_type": "markdown",
      "source": [
        "> Issues found: Missing values in merch_lat and merch_long - will be dealt with if necessary. Small rural population - region should not be used as a feature due to the imbalance."
      ],
      "metadata": {
        "formattedRanges": [],
        "id": "Uf1WaYNd04y1",
        "color": "red",
        "deepnote_app_block_visible": true,
        "cell_id": "461a1c24623746b5801a77d80e2a359e",
        "deepnote_cell_type": "text-cell-callout"
      }
    },
    {
      "cell_type": "markdown",
      "source": [
        "<hr>"
      ],
      "metadata": {
        "id": "hUbUyqEV04y2",
        "deepnote_app_block_visible": true,
        "cell_id": "61329dece3d2406c91759b4488c0d35f",
        "deepnote_cell_type": "separator"
      }
    },
    {
      "cell_type": "markdown",
      "source": [
        "<hr>"
      ],
      "metadata": {
        "id": "cwCyzho504y2",
        "deepnote_app_block_visible": true,
        "cell_id": "fe336e7cd36a4bbd868b103484f4a651",
        "deepnote_cell_type": "separator"
      }
    },
    {
      "cell_type": "markdown",
      "source": [
        "### B.3 Explore Variables of Interest"
      ],
      "metadata": {
        "id": "dqVN0F2shez3",
        "deepnote_app_block_visible": true,
        "cell_id": "1f442d09aee24a1799cce414a986582a",
        "deepnote_cell_type": "markdown"
      }
    },
    {
      "cell_type": "markdown",
      "source": [
        "<hr>"
      ],
      "metadata": {
        "id": "uW9rhvPf04y2",
        "deepnote_app_block_visible": true,
        "cell_id": "e1cf53d54a6943b29a03ec42b16d97f1",
        "deepnote_cell_type": "separator"
      }
    },
    {
      "cell_type": "markdown",
      "source": [
        "#### B.3.a Feature \"Datetime\""
      ],
      "metadata": {
        "id": "sWX0aQqW04y2",
        "deepnote_app_block_visible": true,
        "cell_id": "de69bd494f4a47e092bbd890ea298536",
        "deepnote_cell_type": "markdown"
      }
    },
    {
      "cell_type": "code",
      "metadata": {
        "id": "vA52cCK8hez3",
        "colab": {
          "height": 303,
          "base_uri": "https://localhost:8080/"
        },
        "outputId": "71b2e050-2738-472a-d889-6a57456a708b",
        "source_hash": "b2101fb6",
        "execution_start": 1731043173487,
        "execution_millis": 1,
        "execution_context_id": "830c9fcb-c07e-4f38-ac42-b9e2fbf676a4",
        "deepnote_app_block_visible": true,
        "cell_id": "8b7c7734321d41fa9be6db5c54217443",
        "deepnote_cell_type": "code"
      },
      "source": [
        "# Describe datetime\n",
        "\n",
        "df_combined['trans_date_time'].describe()\n"
      ],
      "outputs": [
        {
          "output_type": "execute_result",
          "data": {
            "text/plain": [
              "count                           816859\n",
              "mean     2022-07-23 10:28:19.438835968\n",
              "min                2022-01-06 13:00:34\n",
              "25%         2022-04-29 21:58:08.500000\n",
              "50%                2022-07-24 06:11:35\n",
              "75%         2022-10-23 09:21:22.500000\n",
              "max                2022-12-31 12:59:42\n",
              "Name: trans_date_time, dtype: object"
            ],
            "text/html": [
              "<div>\n",
              "<style scoped>\n",
              "    .dataframe tbody tr th:only-of-type {\n",
              "        vertical-align: middle;\n",
              "    }\n",
              "\n",
              "    .dataframe tbody tr th {\n",
              "        vertical-align: top;\n",
              "    }\n",
              "\n",
              "    .dataframe thead th {\n",
              "        text-align: right;\n",
              "    }\n",
              "</style>\n",
              "<table border=\"1\" class=\"dataframe\">\n",
              "  <thead>\n",
              "    <tr style=\"text-align: right;\">\n",
              "      <th></th>\n",
              "      <th>trans_date_time</th>\n",
              "    </tr>\n",
              "  </thead>\n",
              "  <tbody>\n",
              "    <tr>\n",
              "      <th>count</th>\n",
              "      <td>816859</td>\n",
              "    </tr>\n",
              "    <tr>\n",
              "      <th>mean</th>\n",
              "      <td>2022-07-23 10:28:19.438835968</td>\n",
              "    </tr>\n",
              "    <tr>\n",
              "      <th>min</th>\n",
              "      <td>2022-01-06 13:00:34</td>\n",
              "    </tr>\n",
              "    <tr>\n",
              "      <th>25%</th>\n",
              "      <td>2022-04-29 21:58:08.500000</td>\n",
              "    </tr>\n",
              "    <tr>\n",
              "      <th>50%</th>\n",
              "      <td>2022-07-24 06:11:35</td>\n",
              "    </tr>\n",
              "    <tr>\n",
              "      <th>75%</th>\n",
              "      <td>2022-10-23 09:21:22.500000</td>\n",
              "    </tr>\n",
              "    <tr>\n",
              "      <th>max</th>\n",
              "      <td>2022-12-31 12:59:42</td>\n",
              "    </tr>\n",
              "  </tbody>\n",
              "</table>\n",
              "</div><br><label><b>dtype:</b> object</label>"
            ]
          },
          "metadata": {},
          "execution_count": 22
        }
      ],
      "execution_count": 22
    },
    {
      "cell_type": "code",
      "metadata": {
        "id": "3iFw1jLzhez3",
        "colab": {
          "height": 361,
          "base_uri": "https://localhost:8080/"
        },
        "outputId": "2f3d86d7-065b-4dca-ee29-51cc122a3673",
        "source_hash": "4abecca0",
        "execution_start": 1731043173540,
        "execution_millis": 260,
        "execution_context_id": "830c9fcb-c07e-4f38-ac42-b9e2fbf676a4",
        "deepnote_app_block_visible": true,
        "cell_id": "087dd0bedf5a42629346c77ac9f6ab53",
        "deepnote_cell_type": "code"
      },
      "source": [
        "# Plot daily pattern by hour\n",
        "\n",
        "hourly_counts = df_combined['trans_date_time'].dt.hour.value_counts().sort_index()\n",
        "plt.figure(figsize=(12, 4))\n",
        "plt.plot(range(24), hourly_counts, marker='o')\n",
        "plt.title('Transaction Distribution by Hour of Day')\n",
        "plt.xlabel('Hour')\n",
        "plt.ylabel('Number of Transactions')\n",
        "plt.xticks(range(24))\n",
        "plt.grid(True)\n",
        "plt.show()\n"
      ],
      "outputs": [
        {
          "output_type": "display_data",
          "data": {
            "text/plain": [
              "<Figure size 1200x400 with 1 Axes>"
            ],
            "image/png": "[encoded data removed]"
          },
          "metadata": {}
        }
      ],
      "execution_count": 23
    },
    {
      "cell_type": "markdown",
      "source": [
        "> Insights: The hourly distribution shows a clear pattern where transaction activity increases around 2 am and maintains steady at around 42,000 transactions per hour during the day until noon , after which it drops significantly to a consistent lower level (around 26,000 transactions per hour) during evening and early night hours."
      ],
      "metadata": {
        "formattedRanges": [],
        "id": "FJ-f2SRC04y3",
        "deepnote_app_block_visible": true,
        "cell_id": "626fe86ff8cc41e4819c7ef6505abe89",
        "deepnote_cell_type": "text-cell-callout"
      }
    },
    {
      "cell_type": "code",
      "metadata": {
        "id": "Ud6XPqhVhez3",
        "colab": {
          "height": 386,
          "base_uri": "https://localhost:8080/"
        },
        "outputId": "097fcc60-be1e-4de7-a1cf-df1b4d210f83",
        "source_hash": "256f0b7",
        "execution_start": 1731043173851,
        "execution_millis": 222,
        "execution_context_id": "830c9fcb-c07e-4f38-ac42-b9e2fbf676a4",
        "deepnote_app_block_visible": true,
        "cell_id": "5124bc69182b46f6aafd99660c93c9c0",
        "deepnote_cell_type": "code"
      },
      "source": [
        "# Day of week analysis\n",
        "\n",
        "day_order = ['Monday', 'Tuesday', 'Wednesday', 'Thursday', 'Friday', 'Saturday', 'Sunday']\n",
        "daily_counts = df_combined['trans_date_time'].dt.day_name().value_counts()\n",
        "daily_counts = daily_counts.reindex(day_order)\n",
        "\n",
        "plt.figure(figsize=(12, 4))\n",
        "plt.bar(day_order, daily_counts)\n",
        "plt.title('Transactions by Day of Week')\n",
        "plt.xticks(rotation=45)\n",
        "plt.ylabel('Number of Transactions')\n",
        "plt.show()\n"
      ],
      "outputs": [
        {
          "output_type": "display_data",
          "data": {
            "text/plain": [
              "<Figure size 1200x400 with 1 Axes>"
            ],
            "image/png": "[encoded data removed]"
          },
          "metadata": {}
        }
      ],
      "execution_count": 24
    },
    {
      "cell_type": "code",
      "metadata": {
        "id": "LPv8P5Er7-a0",
        "colab": {
          "base_uri": "https://localhost:8080/"
        },
        "outputId": "845e49ca-72f7-4ba6-fda1-7eeabca841e6",
        "source_hash": "8a1c9e73",
        "execution_start": 1731043174127,
        "execution_millis": 1,
        "execution_context_id": "830c9fcb-c07e-4f38-ac42-b9e2fbf676a4",
        "deepnote_app_block_visible": true,
        "cell_id": "f69b7d521eb14277851df1834b7a8d83",
        "deepnote_cell_type": "code"
      },
      "source": [
        "# Basic statistics\n",
        "print(\"\\nTransaction Timing Statistics:\")\n",
        "print(\"\\nTransactions by Day of Week:\")\n",
        "print(daily_counts)\n",
        "\n",
        "print(\"\\nBusiest Hours:\")\n",
        "print(hourly_counts.nlargest(5))\n",
        "\n",
        "print(\"\\nTransaction Distribution:\")\n",
        "print(f\"First Transaction: {df_combined['trans_date_time'].min()}\")\n",
        "print(f\"Last Transaction: {df_combined['trans_date_time'].max()}\")\n",
        "print(f\"Total Days: {(df_combined['trans_date_time'].max() - df_combined['trans_date_time'].min()).days}\")\n"
      ],
      "outputs": [
        {
          "output_type": "stream",
          "name": "stdout",
          "text": [
            "\n",
            "Transaction Timing Statistics:\n",
            "\n",
            "Transactions by Day of Week:\n",
            "trans_date_time\n",
            "Monday        77274\n",
            "Tuesday       86772\n",
            "Wednesday     94872\n",
            "Thursday     111879\n",
            "Friday       148563\n",
            "Saturday     168763\n",
            "Sunday       128736\n",
            "Name: count, dtype: int64\n",
            "\n",
            "Busiest Hours:\n",
            "trans_date_time\n",
            "11    42542\n",
            "12    42524\n",
            "9     42117\n",
            "10    42063\n",
            "5     41864\n",
            "Name: count, dtype: int64\n",
            "\n",
            "Transaction Distribution:\n",
            "First Transaction: 2022-01-06 13:00:34\n",
            "Last Transaction: 2022-12-31 12:59:42\n",
            "Total Days: 358\n"
          ]
        }
      ],
      "execution_count": 25
    },
    {
      "cell_type": "markdown",
      "source": [
        "> Insights: The daily distribution reveals that transaction volume gradually increases throughout the work week, with Saturday being the busiest day (approximately 169,000 transactions), followed by Friday (about 146,000 transactions), while early weekdays (Monday-Wednesday) show lower activity with only 7,000-10,000 transactions each."
      ],
      "metadata": {
        "formattedRanges": [],
        "id": "v-xxjtss04y3",
        "deepnote_app_block_visible": true,
        "cell_id": "2476061697fa439c915f01c9e4aef1c8",
        "deepnote_cell_type": "text-cell-callout"
      }
    },
    {
      "cell_type": "markdown",
      "source": [
        "> Considerations: The contrast between daytime and nighttime transaction volumes, along with the significant weekend surge, suggests that analyses should be segmented by time periods to avoid masking important patterns - what appears \"normal\" during peak Saturday hours would be highly unusual during a Monday night. The sharp increase at 2 am in daily transactions requires further investigation as this is an unusual timing for high transaction volumes."
      ],
      "metadata": {
        "formattedRanges": [],
        "id": "8S9ycMpL04y3",
        "color": "yellow",
        "deepnote_app_block_visible": true,
        "cell_id": "a2466d8a4eef4569b99f0e0ba151fa50",
        "deepnote_cell_type": "text-cell-callout"
      }
    },
    {
      "cell_type": "markdown",
      "source": [
        "> Issues found: The dataset is missing the first five days of January 2022, which could affect monthly comparisons, and the abrupt spike in transactions at 2am daily appears unusual and may indicate either a batch processing system, a timezone conversion issue, or potential data collection anomalies that need to be investigated before drawing conclusions about early morning transaction patterns."
      ],
      "metadata": {
        "formattedRanges": [],
        "id": "oZzbzKCt04y4",
        "color": "red",
        "deepnote_app_block_visible": true,
        "cell_id": "916240b3fab1472a9467ca9e54ec09bc",
        "deepnote_cell_type": "text-cell-callout"
      }
    },
    {
      "cell_type": "markdown",
      "source": [
        "#### B.3.b Feature \"Amount\""
      ],
      "metadata": {
        "id": "gTMj2O7R04y4",
        "deepnote_app_block_visible": true,
        "cell_id": "206821565b7a4f5eaa78690216fca899",
        "deepnote_cell_type": "markdown"
      }
    },
    {
      "cell_type": "code",
      "metadata": {
        "id": "BsALJajs04y4",
        "colab": {
          "height": 427,
          "base_uri": "https://localhost:8080/"
        },
        "outputId": "850528e5-b42a-48f9-815b-91a19cc65b9c",
        "allow_embed": false,
        "source_hash": "9c666dea",
        "execution_start": 1731043174183,
        "execution_millis": 147,
        "execution_context_id": "830c9fcb-c07e-4f38-ac42-b9e2fbf676a4",
        "deepnote_app_block_visible": true,
        "cell_id": "259f75aaf7d04676851a19c18b880ec0",
        "deepnote_cell_type": "code"
      },
      "source": [
        "# Basic amount distribution with common transaction ranges\n",
        "\n",
        "plt.figure(figsize=(12, 4))\n",
        "plt.subplot(1, 2, 1)\n",
        "\n",
        "# Focus on transactions under 500\n",
        "sns.histplot(data=df_combined[df_combined['amt'] < 500], x='amt', bins=50)\n",
        "plt.title('Amount Distribution (Under $500)')\n",
        "plt.xlabel('Amount ($)')\n",
        "plt.ylabel('Count')\n",
        "\n"
      ],
      "outputs": [
        {
          "output_type": "execute_result",
          "data": {
            "text/plain": [
              "Text(0, 0.5, 'Count')"
            ]
          },
          "metadata": {},
          "execution_count": 26
        },
        {
          "output_type": "display_data",
          "data": {
            "text/plain": [
              "<Figure size 1200x400 with 1 Axes>"
            ],
            "image/png": "[encoded data removed]"
          },
          "metadata": {}
        }
      ],
      "execution_count": 26
    },
    {
      "cell_type": "markdown",
      "source": [
        "> Insights: The amount distribution under 500 shows a dramatic skewed pattern with the highest concentration of transactions occurring at very low amounts (under 50), and a sharp peak in the first bin, suggesting that small-value transactions dominate the dataset."
      ],
      "metadata": {
        "formattedRanges": [],
        "id": "IrYxdmhN04y4",
        "deepnote_app_block_visible": true,
        "cell_id": "c59238e73713417490ebba5718c07ea9",
        "deepnote_cell_type": "text-cell-callout"
      }
    },
    {
      "cell_type": "code",
      "source": [
        "#Display the distribution of transaction amount\n",
        "# Apply log transformation to 'amt' in combined_df\n",
        "df_combined['amt_log'] = np.log1p(df_combined['amt'])\n",
        "\n",
        "# Plot the histogram for the log-transformed 'amt'\n",
        "sns.histplot(df_combined['amt_log'], bins=50, kde=True, color='maroon')\n",
        "plt.title(\"Distribution of Log-Transformed Amount\")\n",
        "plt.xlabel(\"Log-Transformed Amount\")\n",
        "plt.ylabel(\"Frequency\")\n",
        "plt.show()"
      ],
      "metadata": {
        "colab": {
          "base_uri": "https://localhost:8080/",
          "height": 472
        },
        "id": "0WQwHrXi4qBa",
        "outputId": "5035e226-5bfe-4295-9e9a-da2d801d7327"
      },
      "execution_count": 27,
      "outputs": [
        {
          "output_type": "display_data",
          "data": {
            "text/plain": [
              "<Figure size 640x480 with 1 Axes>"
            ],
            "image/png": "[encoded data removed]"
          },
          "metadata": {}
        }
      ]
    },
    {
      "cell_type": "markdown",
      "source": [
        "> Insights: The distribution reveals several peaks, suggesting the possibility of different transaction groups. By applying clustering, we may be able to identify behavior patterns for each group. The distribution even after log-transformed and it's right-skewed due to the outliers on the higher end."
      ],
      "metadata": {
        "id": "E20BAOro445X"
      }
    },
    {
      "cell_type": "code",
      "metadata": {
        "id": "jSZiFZbX04y4",
        "colab": {
          "height": 483,
          "base_uri": "https://localhost:8080/"
        },
        "outputId": "4d697148-ddce-4e3b-cc51-5d973f716d06",
        "allow_embed": false,
        "source_hash": "3b419cc1",
        "execution_start": 1731043174596,
        "execution_millis": 421,
        "execution_context_id": "830c9fcb-c07e-4f38-ac42-b9e2fbf676a4",
        "deepnote_app_block_visible": true,
        "cell_id": "7436c43777b2482fb47320b8f19b10e1",
        "deepnote_cell_type": "code"
      },
      "source": [
        "# Amount patterns by day of week with box plots\n",
        "\n",
        "plt.figure(figsize=(12, 5))\n",
        "sns.boxplot(data=df_combined, x=df_combined['trans_date_time'].dt.day_name(),\n",
        "            y='amt', order=['Monday', 'Tuesday', 'Wednesday', 'Thursday',\n",
        "                           'Friday', 'Saturday', 'Sunday'])\n",
        "plt.title('Transaction Amounts by Day of Week')\n",
        "plt.xticks(rotation=45)\n",
        "plt.ylim(0, 500)  # Limit y-axis to focus on main distribution\n",
        "plt.show()\n",
        "\n"
      ],
      "outputs": [
        {
          "output_type": "display_data",
          "data": {
            "text/plain": [
              "<Figure size 1200x500 with 1 Axes>"
            ],
            "image/png": "[encoded data removed]"
          },
          "metadata": {}
        }
      ],
      "execution_count": 28
    },
    {
      "cell_type": "markdown",
      "source": [
        "> Insights: The box plots across days of the week reveal consistent median transaction amounts across all days, with numerous outliers reaching up to 500. The distribution pattern remains relatively stable regardless of the day, indicating that transaction amounts are more influenced by type of purchase than day of week."
      ],
      "metadata": {
        "formattedRanges": [],
        "id": "x6Tw-_6g04y5",
        "deepnote_app_block_visible": true,
        "cell_id": "3ddcaa7e29264075b58e303876aab525",
        "deepnote_cell_type": "text-cell-callout"
      }
    },
    {
      "cell_type": "code",
      "metadata": {
        "id": "Nbjs3XaY04y5",
        "colab": {
          "height": 856,
          "base_uri": "https://localhost:8080/"
        },
        "outputId": "bd9dba1b-f5b2-40e7-b774-6472f1719b0c",
        "allow_embed": false,
        "source_hash": "fee5c231",
        "execution_start": 1731043175064,
        "execution_millis": 254,
        "execution_context_id": "830c9fcb-c07e-4f38-ac42-b9e2fbf676a4",
        "deepnote_app_block_visible": true,
        "cell_id": "3bbe6a25903a4d10b5390ee13ea21669",
        "deepnote_cell_type": "code"
      },
      "source": [
        "# Hourly average transaction amounts\n",
        "\n",
        "hourly_avg = df_combined.groupby(df_combined['trans_date_time'].dt.hour)['amt'].agg(['mean', 'median', 'count'])\n",
        "hourly_avg = hourly_avg.round(2)\n",
        "\n",
        "plt.figure(figsize=(12, 4))\n",
        "plt.plot(hourly_avg.index, hourly_avg['mean'], marker='o', label='Mean Amount')\n",
        "plt.plot(hourly_avg.index, hourly_avg['median'], marker='o', label='Median Amount')\n",
        "plt.title('Average Transaction Amounts by Hour')\n",
        "plt.xlabel('Hour of Day')\n",
        "plt.ylabel('Amount ($)')\n",
        "plt.legend()\n",
        "plt.grid(True)\n",
        "plt.show()\n",
        "\n",
        "print(\"\\nHourly Transaction Amount Summary:\")\n",
        "print(hourly_avg)\n",
        "\n"
      ],
      "outputs": [
        {
          "output_type": "display_data",
          "data": {
            "text/plain": [
              "<Figure size 1200x400 with 1 Axes>"
            ],
            "image/png": "[encoded data removed]"
          },
          "metadata": {}
        },
        {
          "output_type": "stream",
          "name": "stdout",
          "text": [
            "\n",
            "Hourly Transaction Amount Summary:\n",
            "                  mean  median  count\n",
            "trans_date_time                      \n",
            "0                75.56   60.39  26155\n",
            "1                69.43   44.18  34245\n",
            "2                64.67   30.77  41417\n",
            "3                64.09   31.12  41613\n",
            "4                63.46   30.76  41676\n",
            "5                62.57   30.65  41864\n",
            "6                63.72   30.67  41732\n",
            "7                62.83   30.45  41697\n",
            "8                65.09   30.87  41747\n",
            "9                63.64   30.90  42117\n",
            "10               64.09   30.82  42063\n",
            "11               66.81   30.94  42542\n",
            "12               71.68   31.17  42524\n",
            "13               76.63   45.20  33967\n",
            "14               78.70   60.96  26411\n",
            "15               78.74   61.12  26238\n",
            "16               78.46   60.46  26020\n",
            "17               78.11   60.98  26163\n",
            "18               76.86   61.26  26090\n",
            "19               76.89   61.18  26008\n",
            "20               76.75   60.68  26200\n",
            "21               75.54   61.01  26177\n",
            "22               76.58   60.62  26206\n",
            "23               76.86   60.93  25987\n"
          ]
        }
      ],
      "execution_count": 29
    },
    {
      "cell_type": "markdown",
      "source": [
        "> Insights: The hourly average transaction amounts show a pattern where the mean remains relatively stable (around 60-80), but the median amount shows a dramatic shift at 2pm, jumping from about 30 to 60, suggesting a change in the type of transactions that occur in the afternoon versus morning hours."
      ],
      "metadata": {
        "formattedRanges": [],
        "id": "MvBEzNtZ04y5",
        "deepnote_app_block_visible": true,
        "cell_id": "5d50dfbbbac04a56bcf41b308ed2ade8",
        "deepnote_cell_type": "text-cell-callout"
      }
    },
    {
      "cell_type": "markdown",
      "source": [
        "> Considerations: The large difference between mean and median values in morning hours suggests different types of transactions are occurring at different times of day. While the day of week patterns show consistent medians, the extensive outliers need separate analysis and the extreme concentration of small-value transactions means that analyses might need to be stratified by amount ranges to avoid having patterns of larger transactions completely masked by the small-value transactions."
      ],
      "metadata": {
        "formattedRanges": [],
        "id": "FdD3S_JR04y5",
        "color": "yellow",
        "deepnote_app_block_visible": true,
        "cell_id": "bd979decc246475fb05efbe23e35fa27",
        "deepnote_cell_type": "text-cell-callout"
      }
    },
    {
      "cell_type": "markdown",
      "source": [
        "> Issues found: The difference between morning and afternoon median values (going from 30 to 60 at 2pm) appears unusual and may indicate systematic patterns in transaction processing or potential data recording issues. Also, the extremely right-skewed distribution makes it difficult to visualize and analyze patterns in larger transactions without separate treatment."
      ],
      "metadata": {
        "formattedRanges": [],
        "id": "VZsNSNw004y5",
        "color": "red",
        "deepnote_app_block_visible": true,
        "cell_id": "0a1feb0d32794965ab52ab32a0b4c22f",
        "deepnote_cell_type": "text-cell-callout"
      }
    },
    {
      "cell_type": "markdown",
      "source": [
        "#### B.3.c Feature \"is_fraud\""
      ],
      "metadata": {
        "id": "bFlTJ0XzXCew"
      }
    },
    {
      "cell_type": "code",
      "source": [
        "# Check if there are any missing values in the fraud column\n",
        "missing_fraud = df_combined['is_fraud'].isnull().sum()\n",
        "print(f\"Missing values in 'fraud': {missing_fraud}\")\n",
        "\n",
        "# Check the unique values in fraud to ensure no unexpected values\n",
        "unique_fraud = df_combined['is_fraud'].unique()\n",
        "print(f\"Unique values in 'fraud': {unique_fraud}\")"
      ],
      "metadata": {
        "colab": {
          "base_uri": "https://localhost:8080/"
        },
        "id": "3CgeIVxvW-Hj",
        "outputId": "cc11c1f1-b141-4913-f2f9-15c0601a570a"
      },
      "execution_count": 30,
      "outputs": [
        {
          "output_type": "stream",
          "name": "stdout",
          "text": [
            "Missing values in 'fraud': 0\n",
            "Unique values in 'fraud': [1 0]\n"
          ]
        }
      ]
    },
    {
      "cell_type": "code",
      "source": [
        "#count the values for each response in the is_fraud column\n",
        "fraud_counts = df_combined['is_fraud'].value_counts()\n",
        "\n",
        "#Define the labels for the pie chart\n",
        "labels = [f'Non-Fraud (0): {fraud_counts[0]}', f'Fraud (1): {fraud_counts[1]}']\n",
        "\n",
        "# Define custom colors (e.g., blue for Non-Fraud, red for Fraud)\n",
        "colors = ['skyblue', 'salmon']\n",
        "\n",
        "# Create the pie chart with custom colors\n",
        "plt.pie(fraud_counts, labels=labels, autopct='%1.1f%%', startangle=90, colors=colors)\n",
        "plt.title('Fraud Distribution')\n",
        "\n",
        "# Display the pie chart\n",
        "plt.show()\n"
      ],
      "metadata": {
        "colab": {
          "base_uri": "https://localhost:8080/",
          "height": 428
        },
        "id": "af09eZpDXXVD",
        "outputId": "18b64d6f-ccfd-4cf9-f53d-554ad3f79a7b"
      },
      "execution_count": 31,
      "outputs": [
        {
          "output_type": "display_data",
          "data": {
            "text/plain": [
              "<Figure size 640x480 with 1 Axes>"
            ],
            "image/png": "[encoded data removed]"
          },
          "metadata": {}
        }
      ]
    },
    {
      "cell_type": "markdown",
      "source": [
        "> Insights: Very imbalanced dataset when it comes to the 'is_fraud' variable."
      ],
      "metadata": {
        "id": "suOiq6mIYGeq"
      }
    },
    {
      "cell_type": "markdown",
      "source": [
        "> Considerations: The imbalanced dataset needs to be addressed if used. Can use SMOTE to mitigate this issue."
      ],
      "metadata": {
        "id": "PXqR0uSOYRXg"
      }
    },
    {
      "cell_type": "markdown",
      "source": [
        "<hr>"
      ],
      "metadata": {
        "id": "QYMCr5G904y6",
        "deepnote_app_block_visible": true,
        "cell_id": "ef305defbcda469fae179ecf9e20b8d1",
        "deepnote_cell_type": "separator"
      }
    },
    {
      "cell_type": "markdown",
      "source": [
        "## C. Data Cleaning\n"
      ],
      "metadata": {
        "id": "nKB0uFOg04y6",
        "deepnote_app_block_visible": true,
        "cell_id": "9dccc5280f704139ba23e973f06af9be",
        "deepnote_cell_type": "markdown"
      }
    },
    {
      "cell_type": "markdown",
      "source": [
        "The data cleaning process addressed key formatting inconsistencies in the dataset. Credit card numbers (cc_num) and account numbers (acct_num) were converted to string format to prevent unintended numerical interpretations, while the fraud indicator (is_fraud) was properly formatted as an integer type. The dataset contains no duplicate records, ensuring data integrity. While missing values were identified in merchant latitude (merch_lat) and longitude (merch_long) coordinates, these were left as-is since they are not critical for current analysis. These geographic data points can be addressed in future iterations if spatial analysis becomes necessary."
      ],
      "metadata": {
        "id": "UEQ3_yCZigkW"
      }
    },
    {
      "cell_type": "markdown",
      "source": [
        "### C.1 Fixing \"Inconsistent Formatting\""
      ],
      "metadata": {
        "id": "gewG_b4J9LKr"
      }
    },
    {
      "cell_type": "markdown",
      "source": [
        "> Although cc_num and acct_num consist of numbers, they don’t hold any inherent numerical value or meaning. Converting them to object (string) format rather than int or float is preferable, as this prevents the model from interpreting them as continuous numerical features, which could lead to unintended biases or errors."
      ],
      "metadata": {
        "id": "XdR1GIBH7ggK"
      }
    },
    {
      "cell_type": "code",
      "source": [
        "#convert specified columns to object (string) type\n",
        "df_combined['cc_num'] = df_combined['cc_num'].astype(str)\n",
        "df_combined['acct_num'] = df_combined['acct_num'].astype(str)\n",
        "#Check the result\n",
        "print(df_combined['cc_num'].dtypes)\n",
        "print(df_combined['acct_num'].dtypes)"
      ],
      "metadata": {
        "colab": {
          "base_uri": "https://localhost:8080/"
        },
        "id": "F1pKZow39qno",
        "outputId": "03d644e1-f845-4079-a717-b7eb61df7d6c"
      },
      "execution_count": 32,
      "outputs": [
        {
          "output_type": "stream",
          "name": "stdout",
          "text": [
            "object\n",
            "object\n"
          ]
        }
      ]
    },
    {
      "cell_type": "markdown",
      "source": [
        "### C.2 Fixing \"Incorrect Formatting\""
      ],
      "metadata": {
        "id": "kyrREqkC92_5"
      }
    },
    {
      "cell_type": "markdown",
      "source": [
        "> 'is_fraud' has incorrect formatting"
      ],
      "metadata": {
        "id": "QVHdP5y4-Afd"
      }
    },
    {
      "cell_type": "code",
      "source": [
        "# Convert 'is_fraud' column to integer type\n",
        "df_combined['is_fraud'] = df_combined['is_fraud'].astype(int)\n",
        "\n",
        "#Check the result\n",
        "print(df_combined['is_fraud'].dtypes)"
      ],
      "metadata": {
        "colab": {
          "base_uri": "https://localhost:8080/"
        },
        "id": "MsIgu32N92d_",
        "outputId": "f576ed49-8f0d-4b9a-bc00-ed9e01dc7154"
      },
      "execution_count": 33,
      "outputs": [
        {
          "output_type": "stream",
          "name": "stdout",
          "text": [
            "int64\n"
          ]
        }
      ]
    },
    {
      "cell_type": "markdown",
      "source": [
        "<hr>"
      ],
      "metadata": {
        "id": "hWGGctZp04y6",
        "deepnote_app_block_visible": true,
        "cell_id": "7c4348b5280f4f5cb304201ea9504a2f",
        "deepnote_cell_type": "separator"
      }
    },
    {
      "cell_type": "markdown",
      "source": [
        "## D. Feature Engineering"
      ],
      "metadata": {
        "id": "Kk5WHDjw04zA",
        "deepnote_app_block_visible": true,
        "cell_id": "b2bc5a1d141d4f7ba16539377ccd8a86",
        "deepnote_cell_type": "markdown"
      }
    },
    {
      "cell_type": "markdown",
      "source": [
        "> Age group, gender, region and trans_date_time were added as features in section B1. Any other feature engineering will be done in the experiments of necessary.\n"
      ],
      "metadata": {
        "id": "fypZCm2Z_Jwe"
      }
    },
    {
      "cell_type": "markdown",
      "source": [
        "<hr>"
      ],
      "metadata": {
        "id": "Gane7sjw04zB",
        "deepnote_app_block_visible": true,
        "cell_id": "a762e006c7cd4f4fb40e5acab6776973",
        "deepnote_cell_type": "separator"
      }
    },
    {
      "cell_type": "markdown",
      "source": [
        "## E. Save Datasets"
      ],
      "metadata": {
        "id": "zDfrl3pf04zE",
        "deepnote_app_block_visible": true,
        "cell_id": "919540b2ceb74272b9a15d2315fcaed5",
        "deepnote_cell_type": "markdown"
      }
    },
    {
      "cell_type": "code",
      "source": [
        "df_combined.info()"
      ],
      "metadata": {
        "id": "6pKfX0COrEY9",
        "outputId": "cc98883b-ba9d-4582-b740-ed04001cb858",
        "colab": {
          "base_uri": "https://localhost:8080/"
        }
      },
      "execution_count": 34,
      "outputs": [
        {
          "output_type": "stream",
          "name": "stdout",
          "text": [
            "<class 'pandas.core.frame.DataFrame'>\n",
            "RangeIndex: 816859 entries, 0 to 816858\n",
            "Data columns (total 15 columns):\n",
            " #   Column           Non-Null Count   Dtype         \n",
            "---  ------           --------------   -----         \n",
            " 0   cc_num           816859 non-null  object        \n",
            " 1   acct_num         816859 non-null  object        \n",
            " 2   trans_num        816859 non-null  object        \n",
            " 3   unix_time        816859 non-null  int64         \n",
            " 4   category         816859 non-null  object        \n",
            " 5   amt              816859 non-null  float64       \n",
            " 6   is_fraud         816859 non-null  int64         \n",
            " 7   merchant         816859 non-null  object        \n",
            " 8   merch_lat        729820 non-null  float64       \n",
            " 9   merch_long       729820 non-null  float64       \n",
            " 10  region           816859 non-null  object        \n",
            " 11  gender           816859 non-null  object        \n",
            " 12  age_group        816859 non-null  object        \n",
            " 13  trans_date_time  816859 non-null  datetime64[ns]\n",
            " 14  amt_log          816859 non-null  float64       \n",
            "dtypes: datetime64[ns](1), float64(4), int64(2), object(8)\n",
            "memory usage: 93.5+ MB\n"
          ]
        }
      ]
    },
    {
      "cell_type": "code",
      "source": [
        "# Save combined dataset as csv\n",
        "\n",
        "df_combined.to_csv('Full-dataset.csv', index= False)"
      ],
      "metadata": {
        "id": "FcUu_IXC65ri"
      },
      "execution_count": 35,
      "outputs": []
    },
    {
      "cell_type": "markdown",
      "source": [
        "<hr>"
      ],
      "metadata": {
        "id": "-XnOwRgc04zE",
        "deepnote_app_block_visible": true,
        "cell_id": "f8c73da645124bac9fb8001ab927c473",
        "deepnote_cell_type": "separator"
      }
    },
    {
      "cell_type": "markdown",
      "source": [
        "<hr>"
      ],
      "metadata": {
        "id": "WalLkHXo04zE",
        "deepnote_app_block_visible": true,
        "cell_id": "38accd6059864313a1b6804c5fe62210",
        "deepnote_cell_type": "separator"
      }
    },
    {
      "cell_type": "markdown",
      "source": [
        "<a style='text-decoration:none;line-height:16px;display:flex;color:#5B5B62;padding:10px;justify-content:end;' href='https://deepnote.com?utm_source=created-in-deepnote-cell&projectId=eb16e48c-aaed-445d-b13a-fcef2a72358e' target=\"_blank\">\n",
        "<img alt='Created in deepnote.com' style='display:inline;max-height:16px;margin:0px;margin-right:7.5px;' src='data:image/svg+xml;base64,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' > </img>\n",
        "Created in <span style='font-weight:600;margin-left:4px;'>Deepnote</span></a>"
      ],
      "metadata": {
        "created_in_deepnote_cell": true,
        "deepnote_cell_type": "markdown",
        "id": "YrgceRo2_Ojf"
      }
    }
  ],
  "nbformat": 4,
  "nbformat_minor": 0,
  "metadata": {
    "deepnote_persisted_session": {
      "createdAt": "2024-06-24T23:16:05.079Z"
    },
    "deepnote_app_clear_outputs": false,
    "deepnote_app_layout": "powerful-article",
    "deepnote_app_reactivity_enabled": true,
    "deepnote_app_run_on_load_enabled": false,
    "deepnote_notebook_id": "53aa8204a4a24f26a6f0ec053e3a3f5d",
    "colab": {
      "provenance": []
    },
    "language_info": {
      "name": "python"
    },
    "kernelspec": {
      "name": "python3",
      "display_name": "Python 3"
    }
  }
}